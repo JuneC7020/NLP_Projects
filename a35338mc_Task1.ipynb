{
  "nbformat": 4,
  "nbformat_minor": 0,
  "metadata": {
    "colab": {
      "provenance": [],
      "machine_shape": "hm",
      "authorship_tag": "ABX9TyNo9QieKy7jo82KsnibiFLW",
      "include_colab_link": true
    },
    "kernelspec": {
      "name": "python3",
      "display_name": "Python 3"
    },
    "language_info": {
      "name": "python"
    }
  },
  "cells": [
    {
      "cell_type": "markdown",
      "metadata": {
        "id": "view-in-github",
        "colab_type": "text"
      },
      "source": [
        "<a href=\"https://colab.research.google.com/github/JuneC7020/NLP_Projects/blob/main/a35338mc_Task1.ipynb\" target=\"_parent\"><img src=\"https://colab.research.google.com/assets/colab-badge.svg\" alt=\"Open In Colab\"/></a>"
      ]
    },
    {
      "cell_type": "code",
      "execution_count": 1,
      "metadata": {
        "id": "3GsDSN1wx2li"
      },
      "outputs": [],
      "source": [
        "import nltk, re, pprint\n",
        "from nltk import word_tokenize\n",
        "from nltk import pos_tag\n",
        "from nltk.corpus import stopwords, wordnet\n",
        "from nltk.stem import WordNetLemmatizer\n",
        "from nltk.tokenize import word_tokenize\n",
        "from nltk.cluster import GAAClusterer"
      ]
    },
    {
      "cell_type": "code",
      "source": [
        "from nltk import download\n",
        "\n",
        "download(\"stopwords\")\n",
        "download(\"wordnet\")\n",
        "download(\"punkt\")\n",
        "download(\"omw-1.4\")\n",
        "download(\"averaged_perceptron_tagger\")"
      ],
      "metadata": {
        "colab": {
          "base_uri": "https://localhost:8080/"
        },
        "id": "SKBwUQpId4x3",
        "outputId": "998be017-dfeb-4a4d-985a-e89d8bd4489a"
      },
      "execution_count": 2,
      "outputs": [
        {
          "output_type": "stream",
          "name": "stderr",
          "text": [
            "[nltk_data] Downloading package stopwords to /root/nltk_data...\n",
            "[nltk_data]   Unzipping corpora/stopwords.zip.\n",
            "[nltk_data] Downloading package wordnet to /root/nltk_data...\n",
            "[nltk_data] Downloading package punkt to /root/nltk_data...\n",
            "[nltk_data]   Unzipping tokenizers/punkt.zip.\n",
            "[nltk_data] Downloading package omw-1.4 to /root/nltk_data...\n",
            "[nltk_data] Downloading package averaged_perceptron_tagger to\n",
            "[nltk_data]     /root/nltk_data...\n",
            "[nltk_data]   Unzipping taggers/averaged_perceptron_tagger.zip.\n"
          ]
        },
        {
          "output_type": "execute_result",
          "data": {
            "text/plain": [
              "True"
            ]
          },
          "metadata": {},
          "execution_count": 2
        }
      ]
    },
    {
      "cell_type": "code",
      "source": [
        "from google.colab import drive\n",
        "drive.mount('/content/drive')\n",
        "# connecting Google Drive for reading file of the training data"
      ],
      "metadata": {
        "colab": {
          "base_uri": "https://localhost:8080/"
        },
        "id": "CZM717_cTqv4",
        "outputId": "2e8127ef-fe4f-4037-d798-a49e05581dce"
      },
      "execution_count": 3,
      "outputs": [
        {
          "output_type": "stream",
          "name": "stdout",
          "text": [
            "Mounted at /content/drive\n"
          ]
        }
      ]
    },
    {
      "cell_type": "code",
      "source": [
        "import numpy as np\n",
        "import pandas as pd # for reading csv files\n",
        "import string"
      ],
      "metadata": {
        "id": "wTSRvn1ZVOx1"
      },
      "execution_count": 22,
      "outputs": []
    },
    {
      "cell_type": "code",
      "source": [
        "def wordnet_tagger(nltk_tag):\n",
        "    \"\"\"\n",
        "    Take a nltk POS Tag, then convert it into a equivalent wordnet tag.\n",
        "    It will be used for wordnet lemmatization\n",
        "    \"\"\"\n",
        "    if nltk_tag == None:\n",
        "        return None\n",
        "\n",
        "    if nltk_tag.startswith(\"J\"):\n",
        "        return wordnet.ADJ\n",
        "    elif nltk_tag.startswith(\"V\"):\n",
        "        return wordnet.VERB\n",
        "    elif nltk_tag.startswith(\"N\"):\n",
        "        return wordnet.NOUN\n",
        "    elif nltk_tag.startswith(\"R\"):\n",
        "        return wordnet.ADV\n",
        "    else:\n",
        "        return None"
      ],
      "metadata": {
        "id": "2LohhyVdSSKU"
      },
      "execution_count": 5,
      "outputs": []
    },
    {
      "cell_type": "code",
      "source": [
        "# To remove punctuations and other none useful tokens\n",
        "punc_to_empty_table = str.maketrans(\n",
        "    \"\",\n",
        "    \"\",\n",
        "    # characters to be removed\n",
        "    '''\n",
        "    !\"#$%&'()*+, -./:;<=>?@[\\]^_`{|}~,\n",
        "    '''\n",
        ")"
      ],
      "metadata": {
        "id": "G7WlqRlVp92r"
      },
      "execution_count": 25,
      "outputs": []
    },
    {
      "cell_type": "code",
      "source": [
        "FILE_PATH = \"/content/drive/MyDrive/COMP34711_NLP/NLP_CW/NLP_dataset\"\n",
        "tr_data = pd.read_csv(FILE_PATH + '/Training-dataset.csv')"
      ],
      "metadata": {
        "id": "KaaYmh6_UG-5"
      },
      "execution_count": 6,
      "outputs": []
    },
    {
      "cell_type": "code",
      "source": [
        "tr_data.head() # checking the data of the file"
      ],
      "metadata": {
        "colab": {
          "base_uri": "https://localhost:8080/",
          "height": 486
        },
        "id": "eVr3lv2JXrKv",
        "outputId": "9f76a67b-8367-4ba3-f5da-f10dbe46452e"
      },
      "execution_count": 7,
      "outputs": [
        {
          "output_type": "execute_result",
          "data": {
            "text/plain": [
              "                                     ID                        title  \\\n",
              "0  8f5203de-b2f8-4c0c-b0c1-835ba92422e9                   Si wang ta   \n",
              "1  6416fe15-6f8a-41d4-8a78-3e8f120781c7          Shattered Vengeance   \n",
              "2  4979fe9a-0518-41cc-b85f-f364c91053ca                 L'esorciccio   \n",
              "3  b672850b-a1d9-44ed-9cff-025ee8b61e6f  Serendipity Through Seasons   \n",
              "4  b4d8e8cc-a53e-48f8-be6a-6432b928a56d                The Liability   \n",
              "\n",
              "                                       plot_synopsis  comedy  cult  flashback  \\\n",
              "0  After a recent amount of challenges, Billy Lo ...       0     0          0   \n",
              "1  In the crime-ridden city of Tremont, renowned ...       0     0          0   \n",
              "2  Lankester Merrin is a veteran Catholic priest ...       0     1          0   \n",
              "3  \"Serendipity Through Seasons\" is a heartwarmin...       0     0          0   \n",
              "4  Young and naive 19-year-old slacker, Adam (Jac...       0     0          1   \n",
              "\n",
              "   historical  murder  revenge  romantic  scifi  violence  \n",
              "0           0       1        1         0      0         1  \n",
              "1           0       1        1         1      0         1  \n",
              "2           0       0        0         0      0         0  \n",
              "3           0       0        0         1      0         0  \n",
              "4           0       0        0         0      0         0  "
            ],
            "text/html": [
              "\n",
              "  <div id=\"df-fefb20e7-37ce-438f-82ee-eb0412846483\" class=\"colab-df-container\">\n",
              "    <div>\n",
              "<style scoped>\n",
              "    .dataframe tbody tr th:only-of-type {\n",
              "        vertical-align: middle;\n",
              "    }\n",
              "\n",
              "    .dataframe tbody tr th {\n",
              "        vertical-align: top;\n",
              "    }\n",
              "\n",
              "    .dataframe thead th {\n",
              "        text-align: right;\n",
              "    }\n",
              "</style>\n",
              "<table border=\"1\" class=\"dataframe\">\n",
              "  <thead>\n",
              "    <tr style=\"text-align: right;\">\n",
              "      <th></th>\n",
              "      <th>ID</th>\n",
              "      <th>title</th>\n",
              "      <th>plot_synopsis</th>\n",
              "      <th>comedy</th>\n",
              "      <th>cult</th>\n",
              "      <th>flashback</th>\n",
              "      <th>historical</th>\n",
              "      <th>murder</th>\n",
              "      <th>revenge</th>\n",
              "      <th>romantic</th>\n",
              "      <th>scifi</th>\n",
              "      <th>violence</th>\n",
              "    </tr>\n",
              "  </thead>\n",
              "  <tbody>\n",
              "    <tr>\n",
              "      <th>0</th>\n",
              "      <td>8f5203de-b2f8-4c0c-b0c1-835ba92422e9</td>\n",
              "      <td>Si wang ta</td>\n",
              "      <td>After a recent amount of challenges, Billy Lo ...</td>\n",
              "      <td>0</td>\n",
              "      <td>0</td>\n",
              "      <td>0</td>\n",
              "      <td>0</td>\n",
              "      <td>1</td>\n",
              "      <td>1</td>\n",
              "      <td>0</td>\n",
              "      <td>0</td>\n",
              "      <td>1</td>\n",
              "    </tr>\n",
              "    <tr>\n",
              "      <th>1</th>\n",
              "      <td>6416fe15-6f8a-41d4-8a78-3e8f120781c7</td>\n",
              "      <td>Shattered Vengeance</td>\n",
              "      <td>In the crime-ridden city of Tremont, renowned ...</td>\n",
              "      <td>0</td>\n",
              "      <td>0</td>\n",
              "      <td>0</td>\n",
              "      <td>0</td>\n",
              "      <td>1</td>\n",
              "      <td>1</td>\n",
              "      <td>1</td>\n",
              "      <td>0</td>\n",
              "      <td>1</td>\n",
              "    </tr>\n",
              "    <tr>\n",
              "      <th>2</th>\n",
              "      <td>4979fe9a-0518-41cc-b85f-f364c91053ca</td>\n",
              "      <td>L'esorciccio</td>\n",
              "      <td>Lankester Merrin is a veteran Catholic priest ...</td>\n",
              "      <td>0</td>\n",
              "      <td>1</td>\n",
              "      <td>0</td>\n",
              "      <td>0</td>\n",
              "      <td>0</td>\n",
              "      <td>0</td>\n",
              "      <td>0</td>\n",
              "      <td>0</td>\n",
              "      <td>0</td>\n",
              "    </tr>\n",
              "    <tr>\n",
              "      <th>3</th>\n",
              "      <td>b672850b-a1d9-44ed-9cff-025ee8b61e6f</td>\n",
              "      <td>Serendipity Through Seasons</td>\n",
              "      <td>\"Serendipity Through Seasons\" is a heartwarmin...</td>\n",
              "      <td>0</td>\n",
              "      <td>0</td>\n",
              "      <td>0</td>\n",
              "      <td>0</td>\n",
              "      <td>0</td>\n",
              "      <td>0</td>\n",
              "      <td>1</td>\n",
              "      <td>0</td>\n",
              "      <td>0</td>\n",
              "    </tr>\n",
              "    <tr>\n",
              "      <th>4</th>\n",
              "      <td>b4d8e8cc-a53e-48f8-be6a-6432b928a56d</td>\n",
              "      <td>The Liability</td>\n",
              "      <td>Young and naive 19-year-old slacker, Adam (Jac...</td>\n",
              "      <td>0</td>\n",
              "      <td>0</td>\n",
              "      <td>1</td>\n",
              "      <td>0</td>\n",
              "      <td>0</td>\n",
              "      <td>0</td>\n",
              "      <td>0</td>\n",
              "      <td>0</td>\n",
              "      <td>0</td>\n",
              "    </tr>\n",
              "  </tbody>\n",
              "</table>\n",
              "</div>\n",
              "    <div class=\"colab-df-buttons\">\n",
              "\n",
              "  <div class=\"colab-df-container\">\n",
              "    <button class=\"colab-df-convert\" onclick=\"convertToInteractive('df-fefb20e7-37ce-438f-82ee-eb0412846483')\"\n",
              "            title=\"Convert this dataframe to an interactive table.\"\n",
              "            style=\"display:none;\">\n",
              "\n",
              "  <svg xmlns=\"http://www.w3.org/2000/svg\" height=\"24px\" viewBox=\"0 -960 960 960\">\n",
              "    <path d=\"M120-120v-720h720v720H120Zm60-500h600v-160H180v160Zm220 220h160v-160H400v160Zm0 220h160v-160H400v160ZM180-400h160v-160H180v160Zm440 0h160v-160H620v160ZM180-180h160v-160H180v160Zm440 0h160v-160H620v160Z\"/>\n",
              "  </svg>\n",
              "    </button>\n",
              "\n",
              "  <style>\n",
              "    .colab-df-container {\n",
              "      display:flex;\n",
              "      gap: 12px;\n",
              "    }\n",
              "\n",
              "    .colab-df-convert {\n",
              "      background-color: #E8F0FE;\n",
              "      border: none;\n",
              "      border-radius: 50%;\n",
              "      cursor: pointer;\n",
              "      display: none;\n",
              "      fill: #1967D2;\n",
              "      height: 32px;\n",
              "      padding: 0 0 0 0;\n",
              "      width: 32px;\n",
              "    }\n",
              "\n",
              "    .colab-df-convert:hover {\n",
              "      background-color: #E2EBFA;\n",
              "      box-shadow: 0px 1px 2px rgba(60, 64, 67, 0.3), 0px 1px 3px 1px rgba(60, 64, 67, 0.15);\n",
              "      fill: #174EA6;\n",
              "    }\n",
              "\n",
              "    .colab-df-buttons div {\n",
              "      margin-bottom: 4px;\n",
              "    }\n",
              "\n",
              "    [theme=dark] .colab-df-convert {\n",
              "      background-color: #3B4455;\n",
              "      fill: #D2E3FC;\n",
              "    }\n",
              "\n",
              "    [theme=dark] .colab-df-convert:hover {\n",
              "      background-color: #434B5C;\n",
              "      box-shadow: 0px 1px 3px 1px rgba(0, 0, 0, 0.15);\n",
              "      filter: drop-shadow(0px 1px 2px rgba(0, 0, 0, 0.3));\n",
              "      fill: #FFFFFF;\n",
              "    }\n",
              "  </style>\n",
              "\n",
              "    <script>\n",
              "      const buttonEl =\n",
              "        document.querySelector('#df-fefb20e7-37ce-438f-82ee-eb0412846483 button.colab-df-convert');\n",
              "      buttonEl.style.display =\n",
              "        google.colab.kernel.accessAllowed ? 'block' : 'none';\n",
              "\n",
              "      async function convertToInteractive(key) {\n",
              "        const element = document.querySelector('#df-fefb20e7-37ce-438f-82ee-eb0412846483');\n",
              "        const dataTable =\n",
              "          await google.colab.kernel.invokeFunction('convertToInteractive',\n",
              "                                                    [key], {});\n",
              "        if (!dataTable) return;\n",
              "\n",
              "        const docLinkHtml = 'Like what you see? Visit the ' +\n",
              "          '<a target=\"_blank\" href=https://colab.research.google.com/notebooks/data_table.ipynb>data table notebook</a>'\n",
              "          + ' to learn more about interactive tables.';\n",
              "        element.innerHTML = '';\n",
              "        dataTable['output_type'] = 'display_data';\n",
              "        await google.colab.output.renderOutput(dataTable, element);\n",
              "        const docLink = document.createElement('div');\n",
              "        docLink.innerHTML = docLinkHtml;\n",
              "        element.appendChild(docLink);\n",
              "      }\n",
              "    </script>\n",
              "  </div>\n",
              "\n",
              "\n",
              "<div id=\"df-c7efca55-d0cd-4e4a-ab26-d128c591c108\">\n",
              "  <button class=\"colab-df-quickchart\" onclick=\"quickchart('df-c7efca55-d0cd-4e4a-ab26-d128c591c108')\"\n",
              "            title=\"Suggest charts\"\n",
              "            style=\"display:none;\">\n",
              "\n",
              "<svg xmlns=\"http://www.w3.org/2000/svg\" height=\"24px\"viewBox=\"0 0 24 24\"\n",
              "     width=\"24px\">\n",
              "    <g>\n",
              "        <path d=\"M19 3H5c-1.1 0-2 .9-2 2v14c0 1.1.9 2 2 2h14c1.1 0 2-.9 2-2V5c0-1.1-.9-2-2-2zM9 17H7v-7h2v7zm4 0h-2V7h2v10zm4 0h-2v-4h2v4z\"/>\n",
              "    </g>\n",
              "</svg>\n",
              "  </button>\n",
              "\n",
              "<style>\n",
              "  .colab-df-quickchart {\n",
              "      --bg-color: #E8F0FE;\n",
              "      --fill-color: #1967D2;\n",
              "      --hover-bg-color: #E2EBFA;\n",
              "      --hover-fill-color: #174EA6;\n",
              "      --disabled-fill-color: #AAA;\n",
              "      --disabled-bg-color: #DDD;\n",
              "  }\n",
              "\n",
              "  [theme=dark] .colab-df-quickchart {\n",
              "      --bg-color: #3B4455;\n",
              "      --fill-color: #D2E3FC;\n",
              "      --hover-bg-color: #434B5C;\n",
              "      --hover-fill-color: #FFFFFF;\n",
              "      --disabled-bg-color: #3B4455;\n",
              "      --disabled-fill-color: #666;\n",
              "  }\n",
              "\n",
              "  .colab-df-quickchart {\n",
              "    background-color: var(--bg-color);\n",
              "    border: none;\n",
              "    border-radius: 50%;\n",
              "    cursor: pointer;\n",
              "    display: none;\n",
              "    fill: var(--fill-color);\n",
              "    height: 32px;\n",
              "    padding: 0;\n",
              "    width: 32px;\n",
              "  }\n",
              "\n",
              "  .colab-df-quickchart:hover {\n",
              "    background-color: var(--hover-bg-color);\n",
              "    box-shadow: 0 1px 2px rgba(60, 64, 67, 0.3), 0 1px 3px 1px rgba(60, 64, 67, 0.15);\n",
              "    fill: var(--button-hover-fill-color);\n",
              "  }\n",
              "\n",
              "  .colab-df-quickchart-complete:disabled,\n",
              "  .colab-df-quickchart-complete:disabled:hover {\n",
              "    background-color: var(--disabled-bg-color);\n",
              "    fill: var(--disabled-fill-color);\n",
              "    box-shadow: none;\n",
              "  }\n",
              "\n",
              "  .colab-df-spinner {\n",
              "    border: 2px solid var(--fill-color);\n",
              "    border-color: transparent;\n",
              "    border-bottom-color: var(--fill-color);\n",
              "    animation:\n",
              "      spin 1s steps(1) infinite;\n",
              "  }\n",
              "\n",
              "  @keyframes spin {\n",
              "    0% {\n",
              "      border-color: transparent;\n",
              "      border-bottom-color: var(--fill-color);\n",
              "      border-left-color: var(--fill-color);\n",
              "    }\n",
              "    20% {\n",
              "      border-color: transparent;\n",
              "      border-left-color: var(--fill-color);\n",
              "      border-top-color: var(--fill-color);\n",
              "    }\n",
              "    30% {\n",
              "      border-color: transparent;\n",
              "      border-left-color: var(--fill-color);\n",
              "      border-top-color: var(--fill-color);\n",
              "      border-right-color: var(--fill-color);\n",
              "    }\n",
              "    40% {\n",
              "      border-color: transparent;\n",
              "      border-right-color: var(--fill-color);\n",
              "      border-top-color: var(--fill-color);\n",
              "    }\n",
              "    60% {\n",
              "      border-color: transparent;\n",
              "      border-right-color: var(--fill-color);\n",
              "    }\n",
              "    80% {\n",
              "      border-color: transparent;\n",
              "      border-right-color: var(--fill-color);\n",
              "      border-bottom-color: var(--fill-color);\n",
              "    }\n",
              "    90% {\n",
              "      border-color: transparent;\n",
              "      border-bottom-color: var(--fill-color);\n",
              "    }\n",
              "  }\n",
              "</style>\n",
              "\n",
              "  <script>\n",
              "    async function quickchart(key) {\n",
              "      const quickchartButtonEl =\n",
              "        document.querySelector('#' + key + ' button');\n",
              "      quickchartButtonEl.disabled = true;  // To prevent multiple clicks.\n",
              "      quickchartButtonEl.classList.add('colab-df-spinner');\n",
              "      try {\n",
              "        const charts = await google.colab.kernel.invokeFunction(\n",
              "            'suggestCharts', [key], {});\n",
              "      } catch (error) {\n",
              "        console.error('Error during call to suggestCharts:', error);\n",
              "      }\n",
              "      quickchartButtonEl.classList.remove('colab-df-spinner');\n",
              "      quickchartButtonEl.classList.add('colab-df-quickchart-complete');\n",
              "    }\n",
              "    (() => {\n",
              "      let quickchartButtonEl =\n",
              "        document.querySelector('#df-c7efca55-d0cd-4e4a-ab26-d128c591c108 button');\n",
              "      quickchartButtonEl.style.display =\n",
              "        google.colab.kernel.accessAllowed ? 'block' : 'none';\n",
              "    })();\n",
              "  </script>\n",
              "</div>\n",
              "    </div>\n",
              "  </div>\n"
            ]
          },
          "metadata": {},
          "execution_count": 7
        }
      ]
    },
    {
      "cell_type": "code",
      "source": [
        "print(tr_data.info())"
      ],
      "metadata": {
        "id": "s9rBOz7pZwr3"
      },
      "execution_count": null,
      "outputs": []
    },
    {
      "cell_type": "code",
      "source": [
        "tr_plots = tr_data[\"plot_synopsis\"]\n",
        "tr_ids = tr_data[\"ID\"]"
      ],
      "metadata": {
        "id": "0NqJ1ydyaJgz"
      },
      "execution_count": 9,
      "outputs": []
    },
    {
      "cell_type": "code",
      "source": [
        "### About the data inside the plot synopsis ###\n",
        "\n",
        "# @\n",
        "# @ is found only in two cases: an email, a name of something\n",
        "\n",
        "# IMPORTANT!!\n",
        "# ()\n",
        "# There are a lot of brackets, mostly containing Actors' name or a discription of the story\n",
        "# Since the Name of the actor is not related to the synopsis itself,\n",
        "# I could be better to remove it or store them elsewhere\n",
        "\n",
        "#;\n",
        "# many use of ; for further explaination\n",
        "\n",
        "#'\n",
        "# uses of 've, 'm, 's, n't\n",
        "# they are all stopwords and since sentiment is not the key point of the genre of the movies it is better remove them\n",
        "\n",
        "#numbers\n",
        "# not related to task so removing it"
      ],
      "metadata": {
        "id": "MiNgtQqVVyRe"
      },
      "execution_count": 26,
      "outputs": []
    },
    {
      "cell_type": "code",
      "source": [
        "stop_words = set(stopwords.words())\n",
        "w_lemmatizer = WordNetLemmatizer()"
      ],
      "metadata": {
        "id": "BLvrFYRIWrS7"
      },
      "execution_count": 12,
      "outputs": []
    },
    {
      "cell_type": "code",
      "source": [
        "tokens = []\n",
        "for plot in tr_plots:\n",
        "  tokens.append(word_tokenize(plot))"
      ],
      "metadata": {
        "id": "IrYtsdM3arYl"
      },
      "execution_count": 19,
      "outputs": []
    },
    {
      "cell_type": "code",
      "source": [
        "print(tokens[0:20])"
      ],
      "metadata": {
        "colab": {
          "base_uri": "https://localhost:8080/"
        },
        "id": "IMRE5_zMbjuG",
        "outputId": "e953cf21-3499-4f41-affb-a5079dbcdd04"
      },
      "execution_count": 21,
      "outputs": [
        {
          "output_type": "stream",
          "name": "stdout",
          "text": [
            "[['After', 'a', 'recent', 'amount', 'of', 'challenges', ',', 'Billy', 'Lo', '(', 'Bruce', 'Lee', ')', 'and', 'his', 'friend', 'Chin', 'Ku', '(', 'Huong', 'Cheng', 'Li', ')', 'begin', 'to', 'suspect', 'that', 'someone', 'wants', 'them', 'dead', '.', 'Billy', 'later', 'visits', 'his', 'younger', 'brother', 'Bobby', '(', 'Tong', 'Lung', ')', ',', 'who', 'is', 'studying', 'with', 'Billy', \"'s\", 'former', 'teacher', ',', 'and', 'leaves', 'him', 'a', 'book', 'on', 'Jeet', 'Kune', 'Do', '.', 'Chin', 'is', 'soon', 'killed', ',', 'and', 'Billy', 'goes', 'to', 'Japan', 'to', 'find', 'his', 'stepdaughter', ',', 'May', '.', 'May', 'tells', 'him', 'that', 'Chin', 'had', 'visited', 'just', 'before', 'his', 'death', ',', 'and', 'left', 'a', 'film', 'for', 'her', '.', 'They', 'are', 'suddenly', 'attacked', ',', 'but', 'Billy', 'manages', 'to', 'escape', 'with', 'the', 'film', '.', 'A', 'few', 'days', 'later', 'Billy', 'attends', 'Chin', \"'s\", 'funeral', ',', 'where', 'he', 'is', 'turned', 'away', 'from', 'viewing', 'the', 'body', '.', 'A', 'helicopter', 'arrives', 'during', 'the', 'burial', 'and', 'steals', 'the', 'coffin', 'away', '.', 'Trying', 'to', 'prevent', 'the', 'theft', ',', 'Billy', 'is', 'carried', 'up', 'with', 'the', 'casket', 'but', 'falls', 'to', 'his', 'death', '.', 'Bobby', 'Lo', 'is', 'told', 'of', 'Billy', \"'s\", 'death', 'by', 'their', 'father', ',', 'who', 'tells', 'him', 'to', 'find', 'a', 'man', 'named', 'Sherman', 'Lan', 'and', 'avenge', 'his', 'brother', '.', 'Sherman', 'gives', 'him', 'the', 'film', ',', 'which', 'shows', 'Chin', 'Ku', 'at', 'the', 'Palace', 'of', 'Death', '.', 'The', 'Palace', 'of', 'Death', 'is', 'run', 'by', 'a', 'crazed', 'martial', 'arts', 'expert', 'by', 'the', 'name', 'of', 'Lewis', '(', 'Roy', 'Horan', ')', '.', 'Any', 'challenger', 'who', 'fails', 'to', 'defeat', 'Lewis', 'is', 'fed', 'to', 'his', 'pack', 'of', 'lions', '.', 'Bobby', 'decides', 'to', 'meet', 'Lewis', ',', 'who', 'is', 'impressed', 'with', 'Bobby', \"'s\", 'abilities', '.', 'While', 'investigating', 'the', 'Palace', ',', 'Bobby', 'is', 'attacked', 'by', 'a', 'masked', 'man', '.', 'Then', ',', 'He', 'informs', 'Lewis', 'that', 'someone', 'is', 'trying', 'to', 'kill', 'him', '.', 'Later', 'that', 'night', ',', 'a', 'woman', 'is', 'sent', 'to', 'Bobby', \"'s\", 'room', 'to', 'seduce', 'and', 'assassinate', 'him', '.', 'When', 'she', 'fails', ',', 'one', 'of', 'Lewis', \"'\", 'lions', 'attacks', 'Bobby', '.', 'During', 'the', 'fight', ',', 'the', 'masked', 'man', 'appears', 'and', 'kills', 'Lewis', '.', 'Suspecting', 'Lewis', \"'\", 'valet', ',', 'Bobby', 'seeks', 'him', 'out', 'at', 'the', 'Fan', 'Yu', 'temple', ',', 'where', 'the', 'underground', 'Tower', 'of', 'Death', 'is', 'rumored', 'to', 'be', '.', 'After', 'defeating', 'the', 'valet', ',', 'Bobby', 'spies', 'the', 'secret', 'entrance', 'into', 'the', 'tower', '.', 'Battling', 'his', 'way', 'through', 'the', 'tower', 'he', 'eventually', 'confronts', 'the', 'operator', ',', 'Chin', 'Ku', '.', 'Chin', 'is', 'the', 'head', 'of', 'a', 'global', 'drug', 'trafficking', 'organization', 'and', 'staged', 'his', 'own', 'death', 'to', 'throw', 'off', 'Interpol', 'investigators', '.', 'He', 'tried', 'to', 'frame', 'Lewis', 'for', 'his', 'death', 'and', 'arranged', 'for', 'the', 'coffin', 'to', 'be', 'stolen', 'to', 'prevent', 'it', 'from', 'being', 'searched', '.', 'Realizing', 'the', 'only', 'way', 'to', 'defeat', 'Chin', \"'s\", 'sword', 'skills', 'is', 'with', 'Billy', \"'s\", 'Jeet', 'Kune', 'Do', ',', 'Bobby', 'cold-heartedly', 'uses', 'Chin', \"'s\", 'sword', ',', 'impales', 'Chin', \"'s\", 'bodyguard', 'monk', '(', 'Lee', 'Hoi-San', ')', 'and', 'Chin', 'together', ',', 'finally', 'killing', 'Chin', 'and', 'stopping', 'his', 'drug', 'operation', '.'], ['In', 'the', 'crime-ridden', 'city', 'of', 'Tremont', ',', 'renowned', 'investigative', 'journalist', ',', 'Amelia', 'Williams', ',', 'wages', 'war', 'against', 'an', 'influential', 'criminal', 'syndicate', '.', 'The', 'Syndicate', ',', 'led', 'by', 'the', 'ruthless', 'mafia', 'boss', ',', 'Victor', 'Russo', ',', 'smuggles', 'drugs', 'and', 'extorts', 'businesses', ',', 'instilling', 'fear', 'throughout', 'the', 'entire', 'city', '.', 'Amidst', 'the', 'chaos', ',', 'Amelia', \"'s\", 'investigative', 'reporting', 'catches', 'the', 'attention', 'of', 'Jared', 'Bennett', ',', 'a', 'former', 'Special', 'Forces', 'operative', 'haunted', 'by', 'his', 'personal', 'demons', '.', 'Amelia', ',', 'driven', 'by', 'her', 'desire', 'for', 'justice', ',', 'covertly', 'gathers', 'vital', 'evidence', 'against', 'the', 'Syndicate', ',', 'documenting', 'their', 'illegal', 'activities', 'in', 'a', 'clandestine', 'exposé', '.', 'However', ',', 'her', 'secret', 'investigation', 'is', 'abruptly', 'cut', 'short', 'when', 'Amelia', 'is', 'found', 'brutally', 'murdered', 'in', 'her', 'apartment', '.', 'The', 'loss', 'devastates', 'her', 'loyal', 'intern', ',', 'Julia', 'Evans', ',', 'who', 'becomes', 'determined', 'to', 'avenge', 'her', 'mentor', \"'s\", 'death', 'and', 'complete', 'the', 'mission', 'Amelia', 'started', '.', 'Upon', 'hearing', 'the', 'tragic', 'news', ',', 'Jared', ',', 'who', 'had', 'developed', 'feelings', 'for', 'Amelia', ',', 'is', 'consumed', 'by', 'a', 'thirst', 'for', 'revenge', '.', 'Haunted', 'by', 'his', 'past', 'failures', ',', 'Jared', 'pledges', 'to', 'help', 'Julia', 'expose', 'the', 'Syndicate', 'and', 'bring', 'justice', 'to', 'Amelia', \"'s\", 'killers', '.', 'With', 'their', 'hearts', 'set', 'on', 'vengeance', ',', 'they', 'form', 'an', 'unlikely', 'alliance', ',', 'setting', 'in', 'motion', 'a', 'thrilling', 'tale', 'of', 'violence', ',', 'romance', ',', 'and', 'redemption', '.', 'As', 'Jared', 'and', 'Julia', 'delve', 'deeper', 'into', 'the', 'treacherous', 'underworld', 'of', 'Tremont', ',', 'they', 'discover', 'an', 'unexpected', 'ally', 'in', 'the', 'form', 'of', 'Anthony', 'Marino', ',', 'an', 'undercover', 'cop', 'who', 'has', 'infiltrated', 'the', 'Syndicate', '.', 'Together', ',', 'the', 'trio', 'infiltrates', 'a', 'high-profile', 'underground', 'casino', 'run', 'by', 'the', 'Syndicate', ',', 'hoping', 'to', 'find', 'evidence', 'to', 'dismantle', 'Russo', \"'s\", 'empire', '.', 'Amidst', 'the', 'chaos', 'of', 'the', 'casino', ',', 'Jared', 'crosses', 'paths', 'with', 'Victoria', 'Russo', ',', 'Victor', \"'s\", 'estranged', 'daughter', '.', 'Their', 'connection', 'is', 'immediate', ',', 'their', 'attraction', 'undeniable', ',', 'but', 'Victoria', 'is', 'torn', 'between', 'her', 'loyalty', 'to', 'her', 'father', 'and', 'the', 'sense', 'of', 'justice', 'that', 'Jared', 'represents', '.', 'As', 'the', 'investigation', 'intensifies', ',', 'the', 'Syndicate', 'grows', 'suspicious', ',', 'and', 'Victor', 'Russo', 'takes', 'drastic', 'measures', 'to', 'protect', 'his', 'criminal', 'empire', '.', 'He', 'assigns', 'his', 'merciless', 'enforcer', ',', 'Dimitri', 'Saxon', ',', 'to', 'track', 'down', 'and', 'eliminate', 'the', 'threats', '.', 'Saxon', ',', 'a', 'lethal', 'hitman', 'with', 'his', 'own', 'dark', 'past', ',', 'is', 'relentless', 'in', 'his', 'pursuit', 'of', 'Jared', ',', 'Julia', ',', 'and', 'Anthony', ',', 'leaving', 'a', 'path', 'of', 'violence', 'in', 'his', 'wake', '.', 'In', 'a', 'climactic', 'battle', ',', 'the', 'trio', 'confronts', 'the', 'Syndicate', 'at', 'an', 'abandoned', 'warehouse', ',', 'pitting', 'their', 'wits', ',', 'skills', ',', 'and', 'firepower', 'against', 'Russo', \"'s\", 'formidable', 'criminal', 'organization', '.', 'Victoria', 'makes', 'a', 'fateful', 'decision', ',', 'siding', 'with', 'Jared', 'and', 'Julia', ',', 'igniting', 'a', 'passionate', 'battle', 'for', 'redemption', ',', 'love', ',', 'and', 'justice', '.', 'Amidst', 'the', 'explosive', 'conflict', ',', 'long-buried', 'secrets', 'are', 'unearthed', ',', 'shedding', 'light', 'on', 'the', 'tragic', 'events', 'that', 'brought', 'Jared', ',', 'Amelia', ',', 'and', 'Victoria', 'to', 'this', 'final', 'confrontation', '.', 'The', 'truth', 'becomes', 'a', 'vengeful', 'weapon', ',', 'empowering', 'our', 'heroes', 'to', 'reveal', 'the', 'Syndicate', \"'s\", 'darkest', 'secrets', 'and', 'dismantle', 'its', 'oppressive', 'grip', 'on', 'Tremont', '.', 'In', 'an', 'emotional', 'and', 'action-packed', 'finale', ',', 'Jared', 'confronts', 'Victor', 'Russo', ',', 'facing', 'not', 'only', 'the', 'man', 'responsible', 'for', 'Amelia', \"'s\", 'death', 'but', 'also', 'his', 'own', 'guilt', 'over', 'past', 'failures', '.', 'The', 'battle', 'ends', 'with', 'the', 'triumph', 'of', 'justice', ',', 'as', 'Russo', 'meets', 'his', 'demise', ',', 'and', 'Julia', 'finally', 'avenges', 'her', 'beloved', 'mentor', '.', 'With', 'the', 'Syndicate', 'dismantled', ',', 'Tremont', 'begins', 'to', 'heal', ',', 'and', 'the', 'remaining', 'collaborators', 'face', 'the', 'consequences', 'of', 'their', 'actions', '.', 'As', 'the', 'dust', 'settles', ',', 'Jared', 'and', 'Victoria', ',', 'having', 'survived', 'the', 'storm', ',', 'find', 'solace', 'and', 'love', 'in', 'each', 'other', \"'s\", 'arms', '.', 'Together', ',', 'they', 'commit', 'to', 'rebuilding', 'their', 'lives', ',', 'forever', 'changed', 'by', 'their', 'shared', 'journey', 'of', 'heartbreak', ',', 'revenge', ',', 'and', 'ultimately', ',', 'redemption', '.', '``', 'Shattered', 'Vengeance', \"''\", 'is', 'a', 'thrilling', 'tale', 'that', 'explores', 'the', 'limits', 'of', 'revenge', ',', 'the', 'power', 'of', 'love', 'in', 'the', 'face', 'of', 'darkness', ',', 'and', 'the', 'resilience', 'of', 'the', 'human', 'spirit', '.'], ['Lankester', 'Merrin', 'is', 'a', 'veteran', 'Catholic', 'priest', 'and', 'exorcist', 'who', 'is', 'on', 'an', 'archaeological', 'dig', 'in', 'Iraq', '.', 'There', 'he', 'finds', 'an', 'amulet', 'that', 'resembles', 'the', 'statue', 'of', 'Pazuzu', ',', 'a', 'demon', 'whom', 'Merrin', 'had', 'defeated', 'years', 'before', '.', 'Merrin', 'then', 'realizes', 'the', 'demon', 'has', 'returned', 'to', 'seek', 'revenge', '.', 'Meanwhile', ',', 'in', 'Georgetown', ',', 'actress', 'Chris', 'MacNeil', 'is', 'living', 'on', 'location', 'with', 'her', '12-year-old', 'daughter', 'Regan', ',', 'where', 'Chris', 'has', 'just', 'wrapped', 'the', 'final', 'scene', 'of', 'a', 'film', 'about', 'student', 'activism', 'directed', 'by', 'her', 'friend', 'and', 'associate', 'Burke', 'Dennings', '.', 'After', 'playing', 'with', 'a', 'Ouija', 'board', 'and', 'contacting', 'a', 'supposedly', 'imaginary', 'friend', 'whom', 'she', 'calls', 'Captain', 'Howdy', ',', 'Regan', 'begins', 'acting', 'strangely', ',', 'including', 'making', 'mysterious', 'noises', ',', 'stealing', ',', 'constantly', 'using', 'obscene', 'language', ',', 'and', 'exhibiting', 'abnormal', 'strength', '.', 'Chris', 'hosts', 'a', 'party', ',', 'only', 'for', 'Regan', 'to', 'come', 'downstairs', 'unannounced', ',', 'telling', 'one', 'of', 'the', 'guests', ',', 'who', 'is', 'an', 'astronaut', ',', '``', 'You', \"'re\", 'gon', 'na', 'die', 'up', 'there', \"''\", ',', 'and', 'then', 'urinating', 'on', 'the', 'floor', '.', 'Regan', \"'s\", 'bed', 'also', 'begins', 'to', 'shake', 'violently', ',', 'much', 'to', 'her', 'and', 'her', 'mother', \"'s\", 'horror', '.', 'Chris', 'consults', 'multiple', 'physicians', ',', 'but', 'Dr.', 'Klein', 'and', 'his', 'associates', 'find', 'nothing', 'medically', 'wrong', 'with', 'her', 'daughter', ',', 'despite', 'Regan', 'undergoing', 'a', 'battery', 'of', 'diagnostic', 'tests', '.', 'One', 'night', 'when', 'Chris', 'is', 'out', ',', 'Burke', 'Dennings', 'is', 'babysitting', 'Regan', ',', 'only', 'for', 'Chris', 'to', 'come', 'home', 'to', 'hear', 'he', 'has', 'died', 'falling', 'out', 'the', 'window', '.', 'Although', 'this', 'is', 'assumed', 'to', 'have', 'been', 'an', 'accident', ',', 'given', 'Burke', \"'s\", 'history', 'of', 'heavy', 'drinking', ',', 'his', 'death', 'is', 'investigated', 'by', 'Lieutenant', 'William', 'Kinderman', ',', 'who', 'interviews', 'Chris', ',', 'as', 'well', 'as', 'priest', 'and', 'psychiatrist', 'Father', 'Damien', 'Karras', ',', 'who', 'has', 'had', 'his', 'faith', 'in', 'God', 'severely', 'weakened', 'and', 'left', 'badly', 'shaken', 'after', 'the', 'death', 'of', 'his', 'frail', 'mother', '.', 'The', 'doctors', ',', 'thinking', 'that', 'Regan', 'only', 'believes', 'she', 'is', 'possessed', ',', 'recommend', 'an', 'exorcism', 'to', 'be', 'performed', '.', 'Chris', 'arranges', 'a', 'meeting', 'with', 'Karras', '.', 'After', 'recording', 'Regan', 'speaking', 'backwards', 'and', 'witnessing', 'the', 'etching', 'of', 'the', 'words', '``', 'Help', 'Me', \"''\", 'on', 'her', 'stomach', ',', 'Karras', 'is', 'convinced', 'Regan', 'is', 'possessed', '.', 'Believing', 'her', 'soul', 'is', 'in', 'danger', ',', 'he', 'decides', 'to', 'perform', 'an', 'exorcism', '.', 'The', 'experienced', 'Merrin', 'is', 'selected', 'to', 'do', 'so', 'instead', ',', 'with', 'Karras', 'present', 'to', 'assist', '.', 'Both', 'priests', 'witness', 'Regan', 'perform', 'a', 'series', 'of', 'bizarre', ',', 'vulgar', 'acts', ',', 'and', 'confine', 'her', 'to', 'her', 'bedroom', '.', 'They', 'attempt', 'to', 'exorcise', 'the', 'demon', ',', 'but', 'a', 'stubborn', 'Pazuzu', 'toys', 'with', 'them', ',', 'especially', 'Karras', '.', 'Karras', 'shows', 'weakness', ',', 'and', 'is', 'dismissed', 'by', 'Merrin', ',', 'who', 'attempts', 'the', 'exorcism', 'alone', '.', 'Karras', 'enters', 'the', 'room', 'and', 'discovers', 'Merrin', 'has', 'died', 'of', 'a', 'heart', 'attack', '.', 'After', 'failing', 'to', 'revive', 'Merrin', ',', 'the', 'enraged', 'Karras', 'confronts', 'the', 'mocking', ',', 'laughing', 'spirit', 'of', 'Pazuzu', ',', 'tackling', 'the', 'demon', 'to', 'the', 'ground', '.', 'At', 'Karras', \"'s\", 'furious', 'demand', ',', 'Pazuzu', 'then', 'possesses', 'Karras', ',', 'leaving', 'Regan', \"'s\", 'body', '.', 'In', 'a', 'moment', 'of', 'self-sacrifice', ',', 'the', 'priest', 'throws', 'himself', 'out', 'of', 'the', 'window', 'without', 'allowing', 'Pazuzu', 'to', 'compel', 'him', 'to', 'harm', 'Regan', ',', 'and', 'is', 'himself', 'mortally', 'injured', '.', 'Father', 'Dyer', ',', 'an', 'old', 'friend', 'of', 'Karras', ',', 'happens', 'upon', 'the', 'scene', 'and', 'administers', 'the', 'last', 'rites', 'to', 'his', 'friend', '.', 'A', 'few', 'days', 'later', 'Regan', ',', 'who', 'is', 'now', 'back', 'to', 'her', 'normal', 'self', ',', 'prepares', 'to', 'leave', 'for', 'Los', 'Angeles', 'with', 'her', 'mother', '.', 'Although', 'Regan', 'has', 'no', 'apparent', 'recollection', 'of', 'her', 'possession', ',', 'she', 'gives', 'Father', 'Dyer', 'a', 'kiss', ',', 'a', 'likely', 'hint', 'at', 'posthumous', 'thanks', 'to', 'Father', 'Merrin', 'and', 'Father', 'Karras', '.', 'Kinderman', ',', 'who', 'narrowly', 'misses', 'their', 'departure', ',', 'befriends', 'Father', 'Dyer', 'as', 'he', 'investigates', 'Karras', \"'s\", 'death', '.'], ['``', 'Serendipity', 'Through', 'Seasons', \"''\", 'is', 'a', 'heartwarming', 'romantic', 'film', 'that', 'tells', 'the', 'story', 'of', 'two', 'individuals', 'whose', 'lives', 'intertwine', 'in', 'a', 'series', 'of', 'chances', ',', 'set', 'against', 'the', 'backdrop', 'of', 'changing', 'seasons', '.', 'The', 'film', 'starts', 'in', 'early', 'spring', 'in', 'the', 'bustling', 'city', 'of', 'New', 'York', '.', 'Emma', 'Johnson', ',', 'a', 'talented', 'but', 'undervalued', 'pastry', 'chef', ',', 'rushes', 'through', 'her', 'daily', 'routine', 'at', 'a', 'popular', 'bakery', '.', 'Meanwhile', ',', 'Adam', 'Sullivan', ',', 'a', 'dedicated', 'architect', 'with', 'a', 'penchant', 'for', 'adventure', ',', 'is', 'caught', 'up', 'in', 'the', 'rat', 'race', 'of', 'his', 'prestigious', 'firm', '.', 'Both', 'Emma', 'and', 'Adam', 'yearn', 'for', 'something', 'more', 'in', 'their', 'lives', ',', 'something', 'that', 'will', 'fill', 'the', 'void', 'in', 'their', 'hearts', '.', 'On', 'a', 'beautiful', 'spring', 'afternoon', ',', 'a', 'chance', 'encounter', 'brings', 'Emma', 'and', 'Adam', 'together', 'at', 'a', 'quaint', 'coffee', 'shop', '.', 'As', 'they', 'engage', 'in', 'a', 'brief', 'conversation', ',', 'a', 'spark', 'ignites', ',', 'and', 'they', 'feel', 'an', 'instant', 'connection', '.', 'However', ',', 'fate', 'intervenes', ',', 'and', 'they', 'part', 'ways', ',', 'their', 'first', 'meeting', 'destined', 'to', 'be', 'just', 'a', 'memory', '.', 'Unbeknownst', 'to', 'them', ',', 'destiny', 'has', 'something', 'more', 'in', 'store', '.', 'Through', 'a', 'series', 'of', 'extraordinary', 'coincidences', ',', 'Emma', 'and', 'Adam', 'repeatedly', 'cross', 'paths', 'throughout', 'the', 'year', '.', 'From', 'a', 'summer', 'rendezvous', 'by', 'the', 'beach', 'to', 'autumn', 'encounters', 'at', 'art', 'galleries', ',', 'their', 'connection', 'deepens', 'with', 'each', 'meeting', '.', 'However', ',', 'circumstances', 'or', 'their', 'own', 'fears', 'always', 'seem', 'to', 'get', 'in', 'the', 'way', 'of', 'them', 'pursuing', 'their', 'budding', 'romance', '.', 'As', 'the', 'holiday', 'season', 'approaches', ',', 'Emma', 'and', 'Adam', 'find', 'themselves', 'drawn', 'closer', 'than', 'ever', '.', 'The', 'magic', 'of', 'winter', 'blankets', 'the', 'city', ',', 'casting', 'a', 'romantic', 'spell', 'on', 'their', 'lives', '.', 'In', 'a', 'twist', 'of', 'fate', ',', 'they', 'both', 'receive', 'invitations', 'to', 'the', 'same', 'New', 'Year', \"'s\", 'Eve', 'party', ',', 'the', 'culmination', 'of', 'their', 'serendipitous', 'journey', '.', 'The', 'night', 'is', 'filled', 'with', 'joy', ',', 'laughter', ',', 'and', 'confessions', 'of', 'love', '.', 'Emma', 'and', 'Adam', 'finally', 'embrace', 'what', 'they', 'have', 'been', 'searching', 'for', 'all', 'along', '-', 'true', 'love', '.', 'In', 'the', 'aftermath', 'of', 'their', 'magical', 'night', ',', 'Emma', 'and', 'Adam', 'face', 'a', 'new', 'challenge', '.', 'Both', 'must', 'decide', 'whether', 'they', 'are', 'willing', 'to', 'give', 'up', 'their', 'comfortable', 'lives', 'for', 'the', 'uncertainty', 'of', 'a', 'committed', 'relationship', '.', 'They', 'grapple', 'with', 'their', 'fears', 'and', 'insecurities', ',', 'but', 'ultimately', 'realize', 'that', 'taking', 'a', 'leap', 'of', 'faith', 'is', 'worth', 'it', 'if', 'it', 'means', 'finding', 'love', 'and', 'happiness', '.', 'The', 'film', 'concludes', 'with', 'Emma', 'and', 'Adam', ',', 'surrounded', 'by', 'the', 'beauty', 'of', 'spring', 'yet', 'again', ',', 'standing', 'at', 'the', 'same', 'coffee', 'shop', 'where', 'their', 'serendipitous', 'journey', 'began', '.', 'They', 'exchange', 'heartfelt', 'vows', ',', 'promising', 'to', 'love', 'and', 'support', 'each', 'other', 'through', 'all', 'the', 'seasons', 'of', 'life', '.', 'As', 'the', 'credits', 'roll', ',', 'it', 'becomes', 'clear', 'that', 'their', 'love', 'story', 'is', 'just', 'the', 'beginning', 'of', 'a', 'lifetime', 'of', 'adventure', ',', 'passion', ',', 'and', 'shared', 'dreams', '.', '``', 'Serendipity', 'Through', 'Seasons', \"''\", 'is', 'a', 'poignant', 'and', 'uplifting', 'film', 'that', 'serves', 'as', 'a', 'reminder', 'that', 'love', 'sometimes', 'finds', 'us', 'when', 'we', 'least', 'expect', 'it', ',', 'and', 'that', 'the', 'key', 'to', 'happiness', 'lies', 'in', 'taking', 'chances', 'and', 'embracing', 'the', 'unexpected', 'twists', 'of', 'fate', '.'], ['Young', 'and', 'naive', '19-year-old', 'slacker', ',', 'Adam', '(', 'Jack', \"O'Connell\", ')', ',', 'lives', 'with', 'his', 'mum', ',', 'Nicky', '(', 'Kierston', 'Wareing', ')', ',', 'in', 'the', 'home', 'of', 'her', 'intimidating', 'gangster', 'boyfriend', ',', 'Peter', '(', 'Peter', 'Mullan', ')', 'and', 'is', 'sent', 'to', 'conduct', 'a', 'day', 'of', 'driving', 'for', 'Peter', \"'s\", 'associate', 'after', 'Adam', 'inadvertently', 'views', 'an', 'incriminating', 'video', 'on', 'Peter', \"'s\", 'laptop', '.', 'This', 'takes', 'Adam', 'on', 'the', 'road', 'with', 'aging', 'hitman', ',', 'Roy', '(', 'Tim', 'Roth', ')', ',', 'as', 'he', 'enters', 'a', 'world', 'of', 'murder', 'for', '24', 'hours', '.', 'Roy', 'tries', 'to', 'force', 'him', 'to', 'kill', 'a', 'mysterious', 'girl', '(', 'Talulah', 'Riley', ')', 'in', 'a', 'forest', ',', 'but', 'he', 'refrains', 'from', 'doing', 'so', ',', 'giving', 'her', 'the', 'chance', 'to', 'escape', 'and', 'drive', 'away', 'in', 'their', 'vehicle', '.', 'Not', 'pleased', ',', 'Roy', 'uses', 'Adam', 'to', 'hitchhike', 'and', 'they', 'steal', 'a', 'van', 'from', 'an', 'elderly', 'couple', '.', 'They', 'call', 'the', 'girl', 'on', 'Adam', \"'s\", 'phone', 'that', 'was', 'left', 'in', 'the', 'car', 'she', 'took', ',', 'striking', 'a', 'deal', 'to', 'give', 'her', '£7000', 'in', 'return', 'for', 'the', 'bag', 'of', 'evidence', 'that', 'was', 'left', 'in', 'the', 'vehicle', ',', 'even', 'though', 'Roy', 'does', \"n't\", 'actually', 'have', 'the', 'entire', 'amount', '.', 'Roy', 'robs', 'a', 'diner', 'to', 'make', 'up', 'the', 'rest', '.', 'He', 'holds', 'the', 'diner', 'employees', 'at', 'gunpoint', 'and', 'uses', 'them', 'as', 'hostages', 'to', 'make', 'sure', 'the', 'deal', 'goes', 'through', '.', 'Having', 'redeemed', 'the', 'bag', ',', 'Roy', 'and', 'Adam', 'plan', 'to', 'switch', 'automobiles', 'and', 'dispose', 'of', 'the', 'evidence', '.', 'However', ',', 'Roy', 'knocks', 'Adam', 'unconscious', 'at', 'a', 'quiet', 'roadside', 'area', '.', 'Before', 'Roy', 'can', 'kill', 'and', 'dismember', 'his', 'body', ',', 'the', 'girl', ',', 'who', 'followed', 'them', ',', 'runs', 'over', 'Roy', 'and', 'kidnaps', 'Adam', '.', 'Retreating', 'to', 'an', 'abandoned', 'factory', ',', 'the', 'girl', 'ties', 'Adam', 'to', 'a', 'rail', 'upstairs', '.', 'Roy', 'finds', 'his', 'way', 'there', 'and', 'confronts', 'her', '.', 'She', 'claims', 'her', 'sister', 'was', 'sold', 'in', 'a', 'line', 'of', 'sex', 'trafficking', ',', 'starting', 'with', 'Peter', 'and', 'ending', 'up', 'last', 'with', 'Roy', ',', 'and', 'she', 'begins', 'a', 'fight', 'with', 'him', '.', 'Adam', 'manages', 'to', 'free', 'one', 'of', 'his', 'hands', 'and', 'retrieve', 'Roy', \"'s\", 'fallen', 'gun', '.', 'Regaining', 'his', 'memory', ',', 'Adam', 'realizes', 'Roy', 'attempted', 'to', 'kill', 'him', '.', 'Irritated', ',', 'he', 'fires', 'shots', 'off', ',', 'injuring', 'Roy', 'as', 'the', 'girl', 'flees', '.', 'Roy', 'pleads', 'with', 'him', 'to', 'stop', 'shooting', 'and', 'tells', 'Adam', 'he', 'was', 'given', 'orders', 'to', 'kill', 'him', 'but', 'no', 'reason', ',', 'with', 'Adam', \"'s\", 'death', 'meant', 'to', 'be', 'part', 'of', '``', 'the', 'job', \"''\", 'all', 'along', '.', 'Adam', 'realizes', 'it', 'must', 'be', 'because', 'he', 'saw', 'the', 'video', 'incriminating', 'Peter', 'of', 'sex-trafficking', '.', 'They', 'leave', 'the', 'factory', ',', 'finding', 'out', 'the', 'girl', 'left', 'behind', 'the', 'car', ',', 'money', 'and', 'other', 'belongings', 'she', 'had', 'taken', '.', 'Adam', 'drives', 'Roy', 'in', 'their', 'stolen', 'van', 'to', 'a', 'church', 'for', 'Roy', \"'s\", 'daughter', \"'s\", 'wedding', '.', 'During', 'the', 'ride', ',', 'Roy', 'reveals', 'he', 'spared', 'Adam', \"'s\", 'life', 'because', 'of', 'his', 'innocence', 'and', 'tells', 'him', 'he', 'has', 'a', 'second', 'chance', 'at', 'life', 'while', 'Peter', 'believes', 'he', \"'s\", 'dead', '.', 'After', 'dropping', 'off', 'Roy', 'at', 'the', 'church', ',', 'where', 'his', 'fate', 'is', 'left', 'ambiguous', ',', 'Adam', 'takes', 'the', 'van', 'away', 'to', 'set', 'fire', 'to', 'it', 'and', 'destroy', 'any', 'evidence', 'linking', 'them', 'to', 'the', 'murders', 'done', 'in', 'their', 'travels', ',', 'but', 'keeps', 'the', 'gun', '.', 'Adam', 'returns', 'home', ',', 'confronting', 'Peter', 'with', 'the', 'gun', 'and', 'alerting', 'his', 'mum', 'Nicky', 'to', 'his', 'double-crossing', 'ways', '.', 'Adam', 'attacks', 'Peter', ',', 'who', 'gets', 'a', 'hold', 'of', 'the', 'gun', ',', 'Peter', 'knocks', 'out', 'Adam', \"'s\", 'mum', 'and', 'drags', 'him', 'out', 'to', 'the', 'parking', 'lot', '.', 'There', ',', 'the', 'girl', 'shows', 'up', 'and', 'shoots', 'Peter', 'for', 'what', 'he', 'did', 'to', 'her', 'sister', '.', 'Peter', 'starts', 'to', 'strangle', 'her', 'until', 'she', 'stabs', 'and', 'kills', 'him', '.', 'To', 'end', 'the', 'film', ',', 'the', 'girl', 'mounts', 'her', 'pick', 'up', 'truck', ',', 'opens', 'the', 'passenger', 'door', 'and', 'invites', 'in', 'this', 'way', 'a', 'bewildered', 'Adam', '.'], ['Katie', 'Carter', '(', 'Dallender', ')', 'is', 'an', 'aspiring', 'model', 'from', 'Missouri', 'who', 'works', 'as', 'a', 'waitress', 'in', 'a', 'New', 'York', 'City', 'restaurant', '.', 'Desperate', 'to', 'update', 'her', 'modeling', 'portfolio', ',', 'she', 'answers', 'an', 'advertisement', 'offering', 'a', 'free', 'photography', 'session', '.', 'She', 'then', 'meets', 'three', 'Bulgarian', 'brothers', ',', 'photographer', 'Ivan', '(', 'Absolom', ')', 'and', 'his', 'assistants', 'Nikolai', ',', 'known', 'as', '``', 'Nicky', \"''\", '(', 'Aleksiev', ')', ',', 'and', 'Georgy', '(', 'Baharov', ')', ',', 'who', 'becomes', 'infatuated', 'with', 'Katie', '.', 'She', 'leaves', 'the', 'photo', 'shoot', 'after', 'disagreeing', 'with', 'Ivan', 'about', 'a', 'topless', 'shot', '.', 'Georgy', 'later', 'arrives', 'at', 'Katie', \"'s\", 'apartment', 'and', 'apologizes', 'regarding', 'the', 'incident', '.', 'Katie', 'accepts', 'his', 'apology', 'and', 'is', 'given', 'a', 'flash', 'drive', 'containing', 'her', 'photos', '.', 'Before', 'leaving', ',', 'Georgy', 'states', 'that', 'she', 'can', 'keep', 'the', 'pictures', 'for', 'her', 'privacy', ',', 'upload', ',', 'or', 'use', 'the', 'photos', 'as', 'she', 'chooses', '.', 'Later', 'that', 'night', ',', 'Katie', 'wakes', 'up', 'to', 'find', 'Georgy', 'filming', 'her', 'and', 'shoots', 'him', 'with', 'an', 'electroshock', 'gun', '.', 'Although', 'Katie', 'tries', 'to', 'escape', ',', 'Georgy', 'binds', ',', 'gags', ',', 'and', 'sodomizes', 'her', '.', 'Katie', \"'s\", 'neighbor', ',', 'Jayson', ',', 'arrives', 'and', 'tries', 'to', 'stop', 'the', 'rape', 'but', 'Georgy', 'stabs', 'and', 'kills', 'him', '.', 'Georgy', 'panics', 'and', 'calls', 'both', 'his', 'brothers', '.', 'Nikolai', 'and', 'Ivan', 'later', 'arrive', 'and', 'clean', 'up', 'all', 'evidence', 'of', 'the', 'crime', '.', 'Ivan', 'then', 'force-feeds', 'Katie', 'ketamine', ',', 'rendering', 'her', 'unconscious', '.', 'Katie', 'wakes', 'and', 'finds', 'herself', 'naked', 'and', 'handcuffed', 'to', 'a', 'pipe', 'in', 'an', 'old', 'basement', '.', 'The', 'brothers', 'relentlessly', 'rape', 'and', 'torture', 'her', '.', 'She', 'overpowers', 'Georgy', 'and', 'escapes', ',', 'but', 'discovers', 'that', 'she', 'is', 'now', 'in', 'an', 'unknown', 'city', '.', 'When', 'she', 'approaches', 'Bulgarian', 'police', ',', 'she', 'is', 'taken', 'into', 'safe', 'custody', 'by', 'Detective', 'Kiril', '(', 'Zlaterev', ')', ',', 'who', 'informs', 'her', 'that', 'she', 'has', 'been', 'abducted', 'to', 'Bulgaria', '.', 'After', 'an', 'interview', ',', 'Detective', 'Kiril', 'hands', 'her', 'over', 'to', 'Ana', '(', 'Stockley', ')', ',', 'who', 'claims', 'to', 'be', 'from', 'a', 'rape', 'crisis', 'center', 'but', 'is', 'really', 'Nikolai', 'and', 'Georgy', \"'s\", 'mother', '.', 'Katie', 'is', 'returned', 'to', 'the', 'basement', 'and', 'Valko', '(', 'Silverleaf', ')', ',', 'a', 'friend', 'of', 'the', 'family', \"'s\", 'father', ',', 'electroshocks', 'her', 'genitals', 'then', 'brutally', 'rapes', 'her', ',', 'leaving', 'her', 'bloodied', '.', 'Ivan', 'then', 'beats', 'her', '.', 'Katie', 'is', 'then', 'placed', 'in', 'a', 'box', 'with', 'her', 'crucifix', 'necklace', 'and', 'Valko', \"'s\", 'electroshock', 'gun', 'and', 'buried', 'alive', '.', 'The', 'ground', 'beneath', 'the', 'makeshift', 'coffin', 'breaks', 'and', 'she', 'falls', 'into', 'the', 'sewer', 'system', 'below', '.', 'Naked', 'and', 'hungry', ',', 'Katie', 'steals', 'from', 'a', 'nearby', 'church', 'and', 'is', 'soon', 'caught', 'by', 'priest', 'Father', 'Dimov', '(', 'Pelka', ')', ',', 'who', 'recognizes', 'her', 'as', 'a', 'rape', 'survivor', '.', 'He', 'gives', 'her', 'food', ',', 'clothing', ',', 'and', 'a', 'Bible', '.', 'Katie', 'approaches', 'the', 'U.S.', 'Embassy', ',', 'but', 'leaves', 'before', 'going', 'inside', '.', 'Back', 'at', 'the', 'church', ',', 'Dimov', 'offers', 'support', '.', 'As', 'Katie', 'goes', 'back', 'to', 'the', 'sewers', ',', 'she', 'leaves', 'her', 'Bible', 'open', 'for', 'Dimov', 'to', 'read', '.', 'After', 'reading', 'the', 'passage', '``', 'vengeance', 'is', 'mine', \"''\", ',', 'Dimov', 'realizes', 'that', 'Katie', 'seeks', 'revenge', 'against', 'her', 'rapists', '.', 'Katie', 'first', 'steals', 'money', 'from', 'Ana', \"'s\", 'house', 'and', 'buys', 'clothes', ',', 'weapons', ',', 'and', 'supplies', '.', 'She', 'lures', 'Georgy', 'into', 'the', 'sewers', ',', 'captures', 'him', 'and', 'hangs', 'him', 'by', 'his', 'arms', 'on', 'the', 'wall', '.', 'She', 'tortures', 'him', 'with', 'a', 'large', 'switchblade', 'and', 'smears', 'fecal', 'matter', 'into', 'his', 'wounds', 'to', 'cause', 'infection', ',', 'then', 'leaves', 'him', 'to', 'a', 'slow', 'and', 'painful', 'death', '.', 'Meanwhile', ',', 'Dimov', 'has', 'contacted', 'Kiril', ',', 'who', 'realizes', 'that', 'Katie', 'is', 'still', 'in', 'trouble', '.', 'Both', 'men', 'aim', 'to', 'stop', 'Katie', 'from', 'committing', 'crimes', 'to', 'her', 'rapists', 'and', 'to', 'persuade', 'her', 'that', 'she', 'would', 'have', 'legal', 'justice', '.', 'At', 'a', 'nightclub', ',', 'Katie', 'laces', 'Nikolai', \"'s\", 'drink', 'with', 'ecstasy', '.', 'He', 'runs', 'to', 'the', 'bathroom', 'where', 'she', 'drowns', 'him', 'in', 'an', 'unflushed', 'toilet', '.', 'The', 'next', 'day', ',', 'Valko', 'sees', 'Katie', 'during', 'a', 'church', 'service', 'and', 'chases', 'after', 'her', 'into', 'the', 'basement', 'where', 'Katie', 'strikes', 'him', 'with', 'a', 'rock', '.', 'When', 'he', 'regains', 'consciousness', ',', 'he', 'is', 'strapped', 'to', 'a', 'metal', 'bed', 'frame', '.', 'Katie', 'electroshocks', 'his', 'genitals', 'with', 'a', 'stun', 'stick', ',', 'puts', 'a', 'large', 'plumber', \"'s\", 'snake', 'into', 'his', 'mouth', ',', 'turns', 'it', 'on', 'and', 'it', 'snakes', 'its', 'way', 'down', 'into', 'his', 'throat', '.', 'She', 'then', 'attaches', 'electrical', 'cables', 'to', 'the', 'bed', 'and', 'rooter', 'and', 'electrocutes', 'him', '.', 'Ana', 'finds', 'her', 'house', 'has', 'been', 'burgled', '.', 'Later', ',', 'Katie', 'pushes', 'Ana', 'into', 'the', 'sewers', 'and', 'binds', 'her', 'in', 'a', 'box', 'and', 'forces', 'her', 'to', 'watch', 'Georgy', 'die', '.', 'Ivan', 'realizes', 'that', 'Katie', 'has', 'escaped', ';', 'she', 'captures', 'him', ',', 'ties', 'him', 'to', 'a', 'table', 'and', 'tortures', 'him', 'by', 'crushing', 'his', 'testicles', 'before', 'killing', 'him', '.', 'Kiril', 'hears', 'Ivan', 'and', 'Ana', \"'s\", 'screams', 'and', 'follows', 'them', 'to', 'the', 'sewers', '.', 'During', 'the', 'torture', ',', 'Ivan', 'reveals', 'that', 'Ana', 'is', 'his', 'stepmother', ',', 'who', 'herself', 'was', 'raped', 'by', 'her', 'future', 'husband', ',', 'Ivan', \"'s\", 'father', '.', 'Nikolai', 'and', 'Georgy', 'were', 'products', 'of', 'Ana', \"'s\", 'rapes', '.', 'Katie', 'understands', 'Ana', \"'s\", 'sadistic', 'nature', 'and', 'begins', 'to', 'torture', 'Ana', 'and', 'Ivan', ',', 'but', 'at', 'that', 'moment', 'Kiril', 'arrives', 'and', 'holds', 'his', 'gun', 'up', 'to', 'Katie', '.', 'Ivan', 'grabs', 'and', 'begins', 'to', 'strangle', 'Katie', ',', 'but', 'Kiril', 'shoots', 'Ivan', 'in', 'the', 'head', ',', 'allowing', 'Katie', 'to', 'escape', '.', 'Ana', ',', 'the', 'sole', 'survivor', 'is', 'arrested', 'by', 'Kiril', 'for', 'her', 'part', 'in', 'her', 'family', \"'s\", 'crimes', '.', 'Katie', 'arrives', 'at', 'the', 'U.S.', 'Embassy', 'and', 'the', 'film', 'ends', '.'], ['Virginia', 'Cunningham', '(', 'Olivia', 'de', 'Havilland', ')', 'is', 'an', 'apparently', 'schizophrenic', 'inmate', 'at', 'a', 'mental', 'institution', 'called', 'the', 'Juniper', 'Hill', 'State', 'Hospital', '(', 'which', 'treats', 'only', 'female', 'patients', ')', '.', 'She', 'hears', 'voices', 'and', 'seems', 'so', 'out', 'of', 'touch', 'with', 'reality', 'that', 'she', 'doesn', '’', 't', 'recognize', 'her', 'husband', 'Robert', '(', 'Mark', 'Stevens', ')', '.', 'Dr.', 'Kik', '(', 'Leo', 'Genn', ';', 'as', 'Mark', 'Van', 'Kensdelaerik', ',', 'MD/', \"''\", 'Dr.', 'Kik', \"''\", ')', 'works', 'with', 'her', ',', 'and', 'flashbacks', 'show', 'how', 'Virginia', 'and', 'Robert', 'met', 'a', 'few', 'years', 'earlier', 'in', 'Chicago', '.', 'He', 'worked', 'for', 'a', 'publisher', 'who', 'rejected', 'her', 'writing', ',', 'and', 'they', 'bumped', 'into', 'each', 'other', 'again', 'in', 'the', 'cafeteria', '.', 'Occasionally', 'she', 'continued', 'to', 'drop', 'by', 'the', 'cafeteria', 'so', 'they', 'get', 'to', 'know', 'each', 'other', '.', 'Despite', 'their', 'blossoming', 'romance', ',', 'Virginia', 'abruptly', 'leaves', 'town', 'without', 'explanation', '.', 'Robert', 'moves', 'to', 'New', 'York', 'and', 'bumps', 'into', 'her', 'again', 'at', 'the', 'Philharmonic', '.', 'After', 'she', 'provides', 'a', 'loose', 'excuse', 'for', 'her', 'absence', 'and', 'departure', ',', 'they', 'pick', 'up', 'where', 'they', 'left', 'off', ',', 'though', 'she', 'remains', 'evasive', 'and', 'avoids', 'his', 'desire', 'for', 'marriage', '.', 'Eventually', ',', 'Virginia', 'brings', 'up', 'the', 'possibility', 'of', 'marriage', '.', 'They', 'marry', 'on', 'May', '7', ',', 'but', 'Virginia', 'acts', 'erratically', 'again', '.', 'She', 'can', '’', 't', 'sleep', 'and', 'loses', 'touch', 'with', 'reality', ',', 'as', 'she', 'feels', 'it', 'is', 'November', 'and', 'snaps', 'when', 'Robert', 'corrects', 'her', '.', 'The', 'rest', 'of', 'the', 'film', 'follows', 'her', 'therapy', '.', 'Dr.', 'Kik', 'puts', 'her', 'through', 'electro-shock', 'treatment', 'and', 'other', 'forms', 'of', 'treatment', 'including', 'hypnotherapy', '.', 'Dr.', 'Kik', 'wants', 'to', 'get', 'to', 'the', '``', 'causes', 'of', 'her', 'unconscious', 'rejection', '.', \"''\", 'The', 'film', 'includes', 'many', 'flashbacks', ',', 'including', 'her', 'earlier', 'failed', 'engagement', 'to', 'Gordon', '(', 'Leif', 'Erickson', ')', 'as', 'well', 'as', 'childhood', 'issues', '.', 'The', 'film', 'shows', 'her', 'progress', 'and', 'what', 'happens', 'to', 'her', 'along', 'the', 'way', '.', 'The', 'mental', 'hospital', 'is', 'organized', 'on', 'a', 'spectrum', 'of', '``', 'levels', '.', \"''\", 'The', 'better', 'a', 'patient', 'gets', ',', 'the', 'lower', 'level', 'she', 'is', 'able', 'to', 'achieve', '.', 'Virginia', 'moves', 'to', 'the', 'lowest', 'level', '(', 'One', ')', ',', 'where', 'she', 'encounters', 'Nurse', 'Davis', '(', 'Helen', 'Craig', ')', ',', 'the', 'only', 'truly', 'abusive', 'nurse', 'in', 'the', 'hospital', '.', 'Davis', 'is', 'jealous', 'of', 'Dr.', 'Kik', \"'s\", 'interest', 'in', 'Virginia', ',', 'which', 'she', 'sees', 'as', 'excessive', '.', 'Nurse', 'Davis', 'goads', 'Virginia', 'into', 'an', 'outburst', 'which', 'results', 'in', 'Virginia', 'being', 'straitjacketed', 'and', 'expelled', 'from', 'Level', 'One', 'into', 'the', '``', 'snake', 'pit', ',', \"''\", 'where', 'patients', 'considered', 'beyond', 'help', 'are', 'simply', 'placed', 'together', 'in', 'a', 'large', 'padded', 'cell', 'and', 'abandoned', '.', 'Dr.', 'Kik', ',', 'learning', 'of', 'this', ',', 'has', 'Virginia', 'returned', 'to', 'Level', 'One', ',', 'but', 'away', 'from', 'Nurse', 'Davis', \"'s\", 'care', '.', 'Despite', 'this', 'setback', ',', 'Dr.', 'Kik', \"'s\", 'care', 'continues', 'to', 'improve', 'Virginia', \"'s\", 'mental', 'state', '.', 'Over', 'time', ',', 'Virginia', 'gains', 'insight', 'and', 'self-understanding', ',', 'and', 'is', 'able', 'to', 'leave', 'the', 'hospital', '.', 'The', 'film', 'also', 'depicts', 'the', 'bureaucratic', 'regimentation', 'of', 'the', 'institution', ',', 'the', 'staff', '—', 'some', 'unkind', 'and', 'aloof', ',', 'some', 'kind', 'and', 'empathetic', ';', 'and', 'relationships', 'between', 'patients', ',', 'from', 'which', 'Virginia', 'learns', 'as', 'much', 'as', 'she', 'does', 'in', 'therapy', '.'], ['In', 'the', 'dark', 'and', 'gritty', 'underbelly', 'of', 'a', 'sprawling', 'metropolis', ',', 'the', 'lives', 'of', 'four', 'individuals', 'intertwine', 'in', 'a', 'web', 'of', 'murder', ',', 'violence', ',', 'and', 'betrayal', '.', '``', 'Shadows', 'of', 'Betrayal', \"''\", 'delves', 'deep', 'into', 'their', 'twisted', 'paths', ',', 'leading', 'them', 'towards', 'a', 'horrifying', 'climax', '.', 'Act', '1', ':', '1', '.', 'Introduce', 'the', 'protagonist', ',', 'Detective', 'Alex', 'Turner', ',', 'a', 'seasoned', 'yet', 'troubled', 'investigator', 'haunted', 'by', 'past', 'failures', '.', 'He', 'is', 'assigned', 'the', 'case', 'of', 'a', 'serial', 'killer', 'known', 'as', '``', 'The', 'Shadowman', \"''\", 'who', 'leaves', 'behind', 'a', 'trail', 'of', 'blood', 'and', 'terror', '.', '2', '.', 'The', 'first', 'victim', ',', 'a', 'young', 'woman', 'named', 'Lily', 'Thompson', ',', 'is', 'discovered', 'in', 'a', 'desolate', 'alley', ',', 'marked', 'with', 'strange', 'symbols', '.', 'Alex', 'becomes', 'determined', 'to', 'unravel', 'the', 'mystery', ',', 'driven', 'by', 'a', 'personal', 'vendetta', 'that', 'connects', 'to', 'his', 'past', '.', '3', '.', 'Parallel', 'to', 'Alex', \"'s\", 'investigation', ',', 'we', 'meet', 'Sara', 'Mitchell', ',', 'an', 'ambitious', 'journalist', 'with', 'a', 'dark', 'secret', '.', 'Sara', 'senses', 'an', 'opportunity', 'to', 'advance', 'her', 'career', 'by', 'covering', 'the', 'Shadowman', 'case', 'and', 'starts', 'digging', 'deeper', 'into', 'the', 'city', \"'s\", 'corrupt', 'underworld', '.', 'Act', '2', ':', '4', '.', 'Alex', \"'s\", 'investigation', 'leads', 'him', 'to', 'the', 'second', 'victim', ',', 'a', 'prominent', 'politician', 'connected', 'to', 'a', 'corrupt', 'organization', '.', 'The', 'investigation', 'unravels', 'layers', 'of', 'deception', ',', 'bringing', 'Alex', 'closer', 'to', 'uncovering', 'the', 'true', 'identity', 'of', 'the', 'Shadowman', '.', '5', '.', 'Meanwhile', ',', 'Sara', \"'s\", 'exploration', 'of', 'the', 'case', 'places', 'her', 'directly', 'in', 'danger', 'as', 'she', 'uncovers', 'a', 'conspiracy', 'that', 'reaches', 'high', 'levels', 'of', 'power', '.', 'She', 'becomes', 'aware', 'of', 'a', 'secret', 'society', 'that', 'operates', 'within', 'the', 'city', ',', 'using', 'violence', 'to', 'manipulate', 'and', 'control', '.', '6', '.', 'As', 'Sara', 'gets', 'closer', 'to', 'exposing', 'their', 'secrets', ',', 'she', 'is', 'targeted', 'by', 'the', 'society', \"'s\", 'enforcers', '.', 'Fleeing', 'for', 'her', 'life', ',', 'she', 'unknowingly', 'becomes', 'entangled', 'with', 'Alex', 'as', 'he', 'unravels', 'the', 'truth', 'behind', 'Lily', \"'s\", 'murder', 'through', 'an', 'underground', 'network', 'of', 'criminals', '.', '7', '.', 'Tensions', 'rise', 'as', 'Alex', 'and', 'Sara', \"'s\", 'paths', 'collide', '.', 'Bound', 'by', 'their', 'shared', 'pursuit', 'of', 'justice', ',', 'they', 'face', 'numerous', 'obstacles', 'while', 'dodging', 'bullets', 'and', 'pursuing', 'leads', ',', 'leading', 'them', 'down', 'a', 'dark', 'labyrinth', 'of', 'violence', 'and', 'betrayal', '.', 'Act', '3', ':', '8', '.', 'The', 'third', 'victim', ',', 'a', 'reformed', 'criminal', 'named', 'Marcus', ',', 'emerges', 'as', 'a', 'key', 'player', ',', 'revealing', 'deep', 'ties', 'to', 'the', 'secret', 'society', '.', 'As', 'Marcus', 'fights', 'to', 'evade', 'his', 'past', ',', 'he', 'becomes', 'an', 'essential', 'ally', 'for', 'Alex', 'and', 'Sara', 'in', 'their', 'quest', 'for', 'justice', '.', '9', '.', 'Alex', \"'s\", 'relentless', 'investigation', 'uncovers', 'a', 'shocking', 'connection', 'between', 'the', 'secret', 'society', ',', 'his', 'past', ',', 'and', 'Lily', \"'s\", 'murder', '.', 'The', 'boundaries', 'of', 'trust', 'blur', 'as', 'Alex', 'realizes', 'that', 'the', 'person', 'he', 'trusted', 'the', 'most', 'is', 'deeply', 'entangled', 'in', 'the', 'conspiracy', '.', '10', '.', 'Sara', \"'s\", 'relentless', 'pursuit', 'of', 'truth', 'lands', 'her', 'in', 'the', 'society', \"'s\", 'clutches', '.', 'Bound', ',', 'wounded', ',', 'and', 'on', 'the', 'brink', 'of', 'death', ',', 'she', 'is', 'left', 'to', 'the', 'mercy', 'of', 'the', 'same', 'individuals', 'she', 'sought', 'to', 'expose', '.', '11', '.', 'In', 'the', 'climactic', 'final', 'act', ',', 'Alex', 'confronts', 'the', 'person', 'behind', 'Lily', \"'s\", 'murder', ',', 'stepping', 'into', 'the', 'heart', 'of', 'the', 'secret', 'society', '.', 'An', 'intense', 'showdown', 'ensues', ',', 'rife', 'with', 'brutal', 'violence', ',', 'as', 'Alex', 'fights', 'for', 'his', 'life', 'while', 'seeking', 'redemption', '.', '12', '.', 'With', 'their', 'lives', 'in', 'grave', 'danger', ',', 'Alex', 'and', 'Marcus', 'race', 'against', 'the', 'clock', 'to', 'rescue', 'Sara', 'from', 'her', 'captors', '.', 'Their', 'actions', 'expose', 'the', 'society', \"'s\", 'heinous', 'crimes', 'to', 'the', 'world', ',', 'leading', 'to', 'a', 'violent', 'confrontation', 'that', 'shakes', 'the', 'city', \"'s\", 'foundations', '.', '13', '.', 'In', 'the', 'aftermath', 'of', 'the', 'blood-soaked', 'battle', ',', 'justice', 'is', 'served', 'as', 'the', 'secrets', 'of', 'the', 'secret', 'society', 'are', 'unveiled', '.', 'Alex', ',', 'Sara', ',', 'and', 'Marcus', 'emerge', 'scarred', 'but', 'victorious', ',', 'bound', 'together', 'by', 'their', 'shared', 'trauma', '.', 'As', '``', 'Shadows', 'of', 'Betrayal', \"''\", 'concludes', ',', 'it', 'leaves', 'viewers', 'reflecting', 'on', 'the', 'dark', 'underbelly', 'of', 'society', ',', 'the', 'profound', 'consequences', 'of', 'violence', 'and', 'deceit', ',', 'and', 'the', 'indomitable', 'spirit', 'of', 'those', 'brave', 'enough', 'to', 'seek', 'justice', 'and', 'redemption', '.'], ['The', 'film', 'takes', 'place', 'in', 'Japan', 'in', 'the', '1860s', ',', 'a', 'time', 'of', 'cultural', 'assimilation', '.', 'Two', 'samurai', ',', 'Munezo', 'Katagiri', '(', 'Masatoshi', 'Nagase', ')', 'and', 'Samon', 'Shimada', '(', 'Hidetaka', 'Yoshioka', ')', ',', 'bid', 'farewell', 'to', 'their', 'friend', ',', 'Yaichiro', 'Hazama', '(', 'Yukiyoshi', 'Ozawa', ')', ',', 'who', 'is', 'to', 'serve', 'in', 'Edo', '(', 'present-day', 'Tokyo', ')', 'under', 'the', 'shogunate', 'of', 'that', 'region', '.', 'Though', 'the', 'position', 'is', 'desirable', ',', 'Katagiri', 'voices', 'his', 'concern', 'that', 'a', 'man', 'of', 'Yaichiro', '’', 's', 'character', 'is', 'likely', 'to', 'run', 'into', 'trouble', '.', 'His', 'doubts', 'are', 'assured', 'when', 'the', 'married', 'Yaichiro', 'expresses', 'an', 'intention', 'to', 'indulge', 'in', 'Edo', '’', 's', 'sensual', 'pleasures', 'while', 'stationed', 'there', '.', 'During', 'dinner', 'that', 'evening', ',', 'Katagiri', '’', 's', 'mother', 'reminds', 'Samon', 'of', 'the', 'financial', 'hardships', 'the', 'family', 'has', 'endured', 'since', 'the', 'death', 'of', 'her', 'husband', '(', 'who', 'committed', 'ritual', 'suicide', 'after', 'a', 'construction', 'job', 'gone', 'wrong', ')', '.', 'She', 'desires', 'a', 'match', 'between', 'Samon', 'and', 'Shino', '(', 'Tomoko', 'Tabata', ')', ',', 'Katagiri', '’', 's', 'sister', '.', 'Also', 'present', 'is', 'Kie', '(', 'Takako', 'Matsu', ')', ',', 'the', 'Katagiri', '’', 's', 'housekeeper', ',', 'who', 'is', 'schooled', 'in', 'etiquette', 'and', 'literacy', '.', 'In', 'a', 'voiceover', ',', 'Katagiri', 'hints', 'at', 'an', 'affection', 'for', 'Kie', ',', 'but', 'then', 'mentions', 'that', 'around', 'the', 'same', 'time', 'Shino', 'married', 'Samon', ',', 'Kie', 'married', 'a', 'man', 'of', 'the', 'merchant', 'class', 'and', 'left', 'the', 'Katagiri', 'household', '.', 'Three', 'years', 'go', 'by', 'during', 'which', 'Katagiri', \"'s\", 'mother', 'passes', 'away', '.', 'While', 'walking', 'through', 'town', ',', 'he', 'sees', 'Kie', 'in', 'a', 'kimono', 'shop', 'where', 'she', 'assures', 'him', 'that', 'she', 'is', 'well', '.', 'Weeks', 'later', ',', 'however', ',', 'Shino', 'tells', 'Katagiri', 'that', 'from', 'the', 'start', 'of', 'her', 'marriage', ',', 'Kie', 'has', 'been', 'forced', 'to', 'perform', 'all', 'manner', 'of', 'duties', 'to', 'the', 'point', 'that', 'she', 'is', 'little', 'more', 'than', 'a', 'slave', 'to', 'her', 'new', 'family', '.', 'Concerned', ',', 'Katagiri', 'visits', 'Mrs.', 'Iseya', '(', 'Sachiko', 'Mitsumoto', ')', ',', 'Kie', '’', 's', 'mother-in-law', ',', 'and', 'finds', 'her', 'incoherent', 'with', 'illness', '.', 'Outraged', ',', 'he', 'demands', 'that', 'Kie', '’', 's', 'husband', 'file', 'divorce', 'papers', 'then', 'carries', 'her', 'to', 'his', 'own', 'house', 'to', 'recover', '.', 'In', 'the', 'midst', 'of', 'everything', ',', 'the', 'changing', 'times', 'have', 'forced', 'Katagiri', 'and', 'his', 'fellow', 'samurai', 'to', 'learn', 'the', 'art', 'of', 'Western', 'weaponry', ',', 'a', 'thing', 'that', 'the', 'elder', 'members', 'of', 'the', 'clan', 'treat', 'with', 'disdain', '.', 'Word', 'arrives', 'from', 'Edo', 'that', 'government', 'officials', 'thwarted', 'an', 'uprising', 'against', 'the', 'shogun', 'and', 'that', 'Yaichiro', ',', 'Katagiri', '’', 's', 'friend', ',', 'was', 'involved', '.', 'After', 'being', 'brought', 'back', 'to', 'the', 'village', 'in', 'a', 'prisoner', \"'s\", 'cage', ',', 'Yaichiro', 'is', 'denied', 'the', 'honor', 'of', 'ritual', 'suicide', 'and', 'must', 'live', 'out', 'the', 'remainder', 'of', 'his', 'days', 'in', 'a', 'cell', '.', 'Believing', 'that', 'Yaichiro', '’', 's', 'friends', 'are', 'complicit', ',', 'Hori', '(', 'Ken', 'Ogata', ')', ',', 'the', 'clan', '’', 's', 'chief', 'retainer', ',', 'demands', 'that', 'Katagiri', 'identify', 'them', ',', 'but', 'he', 'refuses', ',', 'citing', 'his', 'honor', 'as', 'a', 'samurai', ',', 'and', 'is', 'violently', 'dismissed', '.', 'Meanwhile', ',', 'Kie', 'has', 'since', 'recovered', 'and', 'is', 'once', 'again', 'Katagiri', '’', 's', 'housekeeper', '.', 'Though', 'their', 'fondness', 'for', 'one', 'other', 'is', 'evident', ',', 'both', 'are', 'keenly', 'aware', 'of', 'their', 'difference', 'in', 'social', 'class', 'and', 'act', 'accordingly', '.', 'Despite', 'this', ',', 'gossip', 'prompts', 'Katagiri', 'to', 'send', 'Kie', 'back', 'to', 'the', 'countryside', 'to', 'live', 'with', 'her', 'father', '.', 'Shortly', 'after', ',', 'Yaichiro', 'breaks', 'out', 'of', 'prison', 'and', 'takes', 'a', 'family', 'hostage', '.', 'Hori', 'demands', 'that', 'Katagiri', 'dispatch', 'him', '.', 'Knowing', 'that', 'Yaichiro', 'is', 'the', 'better', 'swordsman', ',', 'Katagiri', 'visits', 'their', 'former', 'teacher', '(', 'Min', 'Tanaka', ')', ',', 'who', 'is', 'now', 'a', 'farmer', ',', 'and', 'learns', 'a', 'dangerous', 'maneuver', 'that', 'involves', 'turning', 'ones', 'back', 'on', 'the', 'enemy', '.', 'The', 'next', 'day', ',', 'Katagiri', 'arrives', 'on', 'the', 'outskirts', 'of', 'the', 'village', 'and', 'attempts', 'to', 'persuade', 'Yaichiro', 'to', 'surrender', '.', 'When', 'the', 'latter', 'refuses', '(', 'accusing', 'Hori', 'and', 'the', 'other', 'leaders', 'of', 'incompetence', ')', ',', 'the', 'two', 'engage', 'in', 'single', 'combat', 'during', 'which', 'Katagiri', 'uses', 'the', 'new', 'technique', 'to', 'deliver', 'a', 'mortal', 'blow', '.', 'A', 'dying', 'Yaichiro', 'attempts', 'the', 'same', ',', 'but', 'is', 'gunned', 'down', 'by', 'foot', 'soldiers', 'hiding', 'in', 'the', 'woods', '.', 'Knowing', 'that', 'this', 'is', 'a', 'blatant', 'dishonor', 'to', 'a', 'samurai', ',', 'Katagiri', 'is', 'dismayed', '.', 'On', 'returning', 'to', 'the', 'village', ',', 'he', 'runs', 'into', 'Yaichiro', '’', 's', 'wife', '(', 'Reiko', 'Takashima', ')', 'who', 'reveals', 'that', 'she', 'paid', 'a', 'visit', 'to', 'Hori', 'the', 'night', 'before', 'and', 'exchanged', 'sexual', 'favors', 'for', 'his', 'promise', 'to', 'keep', 'Yaichiro', 'alive', '(', 'a', 'promise', 'that', 'was', 'never', 'fulfilled', ')', '.', 'Bound', 'by', 'an', 'oath', 'to', 'commit', 'suicide', 'should', 'Yaichiro', 'die', ',', 'she', 'takes', 'her', 'own', 'life', '.', 'Unsure', 'of', 'his', 'fealty', ',', 'Katagiri', 'approaches', 'Hori', 'with', 'his', 'treachery', ',', 'to', 'which', 'he', 'crudely', 'admits', '.', 'Realizing', 'that', 'the', 'Hazamas', 'were', 'victims', 'of', 'a', 'corrupt', 'system', ',', 'Katagiri', 'avenges', 'them', 'both', 'by', 'stabbing', 'Hori', 'in', 'the', 'heart', 'with', 'a', 'thin', 'blade', '(', 'the', 'technique', 'known', 'as', '“', 'the', 'hidden', 'blade', '”', 'which', 'leaves', 'almost', 'no', 'trace', 'of', 'blood', '(', 'in', 'the', 'original', 'Japanese', 'version', 'the', 'technique', 'is', 'actually', 'called', '``', 'the', 'demon', \"'s\", 'claw/scratch', \"''\", ',', 'the', 'wound', 'was', 'so', 'small', 'it', 'appeared', 'to', 'be', 'caused', 'by', 'nonhuman', 'sources', ')', ')', '.', 'Katagiri', 'buries', 'the', 'blade', 'at', 'the', 'Hazama', '’', 's', 'grave', 'as', 'a', 'form', 'of', 'atonement', 'and', 'relinquishes', 'his', 'samurai', 'status', '.', 'Resolved', 'to', 'become', 'a', 'tradesman', ',', 'he', 'leaves', 'the', 'village', 'for', 'the', 'island', 'of', 'Ezo', '(', 'modern', 'day', 'Hokkaido', ')', ',', 'but', 'not', 'before', 'seeing', 'Kie', '.', 'With', 'custom', 'no', 'longer', 'a', 'breach', ',', 'Katagiri', 'proposes', 'marriage', 'and', 'Kie', 'accepts', '.', 'The', 'film', 'ends', 'with', 'them', 'sitting', 'on', 'a', 'hill', 'holding', 'hands', ',', 'pondering', 'a', 'future', 'together', '.'], ['Donovan', 'Donaly', '(', 'Geoffrey', 'Rush', ')', 'a', 'TV', 'soap', 'opera', 'producer', ',', 'surprises', 'his', 'wife', 'Bonnie', '(', 'Stacey', 'Travis', ')', 'being', 'intimate', 'with', 'an', 'ex-boyfriend', '.', 'He', 'files', 'for', 'divorce', ',', 'and', 'Bonnie', 'hires', 'Miles', 'Massey', '(', 'George', 'Clooney', ')', ',', 'a', 'top', 'divorce', 'attorney', 'and', 'the', 'inventor', 'of', 'the', '``', 'Massey', 'pre-nup', \"''\", ',', 'a', 'completely', 'foolproof', 'prenuptial', 'agreement', '.', 'Miles', 'wins', 'a', 'large', 'property', 'settlement', 'against', 'Donaly', ',', 'leaving', 'him', 'broke', '.', 'Private', 'investigator', 'Gus', 'Petch', '(', 'Cedric', 'the', 'Entertainer', ')', 'tails', 'the', 'wealthy', 'and', 'married', 'Rex', 'Rexroth', '(', 'Edward', 'Herrmann', ')', 'on', 'a', 'drunken', 'night', 'out', 'with', 'a', 'blonde', '.', 'When', 'they', 'stop', 'at', 'a', 'motel', ',', 'Gus', 'catches', 'their', 'tryst', 'on', 'video', '.', 'He', 'takes', 'the', 'video', 'to', 'Rex', \"'s\", 'wife', ',', 'Marylin', 'Rexroth', '(', 'Catherine', 'Zeta-Jones', ')', ',', 'a', 'marriage-for-money', 'predator', '.', 'She', 'files', 'for', 'divorce', ',', 'demanding', 'a', 'large', 'property', 'settlement', '.', 'Unable', 'to', 'afford', 'a', 'divorce', 'settlement', ',', 'Rex', 'hires', 'Miles', 'to', 'represent', 'him', '.', 'Marylin', \"'s\", 'friend', ',', 'serial', 'divorcée', 'Sarah', 'Sorkin', '(', 'Julia', 'Duffy', ')', ',', 'warns', 'Marilyn', 'that', 'Miles', 'will', 'be', 'a', 'dangerous', 'opponent', '.', 'Marylin', 'and', 'her', 'lawyer', ',', 'Freddy', 'Bender', '(', 'Richard', 'Jenkins', ')', ',', 'fail', 'to', 'reach', 'an', 'agreement', 'with', 'Miles', 'and', 'Rex', '.', 'Bored', 'Miles', 'asks', 'the', 'fascinating', 'Marylin', 'to', 'dinner', ',', 'where', 'they', 'flirt', '.', 'While', 'they', 'are', 'out', ',', 'Petch', 'breaks', 'in', 'and', 'copies', 'her', 'address', 'book', 'for', 'Miles', ',', 'who', 'has', 'his', 'assistant', 'search', 'among', 'the', 'names', 'for', 'Marylin', \"'s\", 'accomplice', 'in', 'predatory', 'marriage', '.', 'In', 'court', ',', 'Marylin', 'feigns', 'an', 'emotional', 'breakdown', 'over', 'Rex', \"'s\", 'infidelity', ',', 'professing', 'that', 'she', 'loved', 'Rex', 'unconditionally', 'at', 'first', 'sight', '.', 'Miles', 'then', 'calls', '``', 'Puffy', \"''\", 'Krauss', 'von', 'Espy', '(', 'Jonathan', 'Hadary', ')', ',', 'a', 'Swiss', 'hotel', 'concierge', 'located', 'by', 'his', 'assistant', '.', 'Puffy', 'testifies', 'that', 'Marylin', 'asked', 'him', 'to', 'find', 'her', 'a', 'marriage', 'target', 'who', 'was', 'very', 'rich', ',', 'foolish', ',', 'and', 'a', 'philanderer', 'whom', 'she', 'could', 'easily', 'divorce', ',', 'and', 'that', 'he', 'pointed', 'her', 'to', 'Rex', '.', 'The', 'divorce', 'is', 'granted', ',', 'but', 'Marylin', 'gets', 'nothing', ',', 'and', 'Miles', \"'\", 'ancient', 'boss', ',', 'Herb', 'Myerson', '(', 'Tom', 'Aldredge', ')', ',', 'congratulates', 'him', '.', 'Marylin', 'wants', 'revenge', '.', 'She', 'finds', 'the', 'now-penniless', 'Donaly', 'living', 'on', 'the', 'street', ',', 'still', 'clutching', 'his', 'Emmy', 'statuette', '.', 'She', 'offers', 'him', 'a', 'chance', 'to', 'reclaim', 'his', 'lost', 'glory', 'if', 'he', 'helps', 'her', 'get', 'revenge', 'on', 'Miles', '.', 'Soon', 'after', ',', 'Marylin', 'shows', 'up', 'at', 'Miles', \"'\", 'office', 'with', 'her', 'new', 'fiancé', ',', 'oil', 'millionaire', 'Howard', 'D.', 'Doyle', '(', 'Billy', 'Bob', 'Thornton', ')', '.', 'Marylin', 'insists', 'on', 'the', 'Massey', 'prenup', ',', 'which', 'will', 'make', 'it', 'absolutely', 'impossible', 'for', 'her', 'to', 'claim', 'any', 'of', 'her', 'fiancée', \"'s\", 'assets', 'in', 'the', 'event', 'of', 'a', 'divorce', ',', 'over', 'both', 'Howard', 'and', 'Miles', \"'s\", 'objections', '.', 'However', ',', 'Howard', 'destroys', 'it', 'during', 'the', 'wedding', ',', 'as', 'a', 'demonstration', 'of', 'love', '.', 'Six', 'months', 'later', ',', 'Miles', 'goes', 'to', 'Las', 'Vegas', 'to', 'give', 'the', 'keynote', 'address', 'at', 'a', 'convention', 'for', 'divorce', 'attorneys', '.', 'He', 'encounters', 'Marylin', ',', 'who', 'has', 'divorced', 'Howard', 'and', 'presumably', 'collected', 'a', 'sizable', 'share', 'of', 'the', 'Doyle', 'Oil', 'fortune', '.', 'However', ',', 'she', 'admits', 'that', 'she', 'is', 'disenchanted', 'with', 'her', 'wealthy', 'but', 'lonely', 'life', '.', 'Miles', 'is', 'thrilled', ',', 'and', 'marries', 'her', 'on', 'the', 'spur', 'of', 'the', 'moment', '.', 'To', 'prove', 'that', 'he', 'has', 'no', 'interest', 'in', 'her', 'fortune', ',', 'he', 'signs', 'the', 'Massey', 'prenup', ',', 'but', 'she', 'tears', 'it', 'up', '.', 'The', 'next', 'morning', 'a', 'disheveled', 'Miles', 'tells', 'the', 'convention', 'that', 'love', 'is', 'the', 'most', 'important', 'thing', ',', 'and', 'that', 'he', 'is', 'giving', 'up', 'divorce', 'for', 'pro', 'bono', 'work', '.', 'A', 'short', 'time', 'later', ',', 'Miles', 'discovers', 'that', '``', 'Howard', 'D.', 'Doyle', \"''\", 'was', 'just', 'an', 'actor', 'from', 'one', 'of', 'Donaly', \"'s\", 'soap', 'operas', '.', 'Marylin', 'has', 'tricked', 'him', ',', 'and', 'now', 'his', 'considerable', 'wealth', 'is', 'at', 'risk', '.', 'Miles', \"'\", 'boss', 'demands', 'that', 'something', 'be', 'done', 'to', 'save', 'the', 'firm', \"'s\", 'reputation', ',', 'and', 'suggests', 'the', 'hitman', '``', 'Wheezy', 'Joe', \"''\", '(', 'Irwin', 'Keyes', ')', '.', 'Miles', 'hires', 'him', 'to', 'kill', 'Marylin', '.', 'Miles', 'then', 'learns', 'that', 'Marylin', \"'s\", 'ex-husband', 'Rex', 'has', 'died', 'without', 'changing', 'his', 'will', ',', 'leaving', 'her', 'his', 'entire', 'fortune', '.', 'Since', 'she', 'is', 'now', 'the', 'wealthier', 'of', 'the', 'two', 'parties', ',', 'his', 'assets', 'are', 'no', 'longer', 'at', 'risk', '.', 'A', 'repentant', 'Miles', 'rushes', 'to', 'save', 'Marylin', 'from', 'Wheezy', 'Joe', ',', 'but', 'Marilyn', 'has', 'already', 'offered', 'to', 'pay', 'him', 'double', 'to', 'kill', 'Miles', 'instead', '.', 'There', 'is', 'a', 'struggle', ';', 'in', 'the', 'confusion', 'Wheezy', 'Joe', 'mistakes', 'his', 'gun', 'for', 'his', 'asthma', 'inhaler', ',', 'and', 'kills', 'himself', '.', 'Later', ',', 'Miles', ',', 'Marylin', 'and', 'their', 'lawyers', 'meet', 'to', 'negotiate', 'a', 'divorce', '.', 'Miles', 'pleads', 'for', 'a', 'second', 'chance', 'and', 'retroactively', 'signs', 'a', 'Massey', 'prenup', '.', 'Realizing', 'her', 'own', 'feelings', 'for', 'him', ',', 'she', 'tears', 'it', 'up', ',', 'and', 'they', 'kiss', '.', 'Marylin', 'then', 'tells', 'Miles', 'that', 'to', 'get', 'Donaly', \"'s\", 'help', 'for', 'supplying', 'Doyle', ',', 'she', 'gave', 'him', 'an', 'idea', 'for', 'a', 'hit', 'TV', 'show', ',', 'restoring', 'his', 'fortunes', 'in', 'the', 'process', ':', 'America', \"'s\", 'Funniest', 'Divorce', 'Videos', ',', 'with', 'Gus', 'Petch', 'as', 'the', 'host', '.'], ['``', 'Infinite', 'Hearts', \"''\", 'is', 'a', 'heartwarming', 'romantic', 'movie', 'that', 'explores', 'the', 'serendipitous', 'journey', 'of', 'two', 'lost', 'souls', 'who', 'find', 'solace', ',', 'healing', ',', 'and', 'love', 'in', 'the', 'most', 'unexpectedly', 'beautiful', 'circumstances', '.', 'The', 'story', 'revolves', 'around', 'Claire', 'Matthews', ',', 'a', 'talented', 'yet', 'disillusioned', 'pianist', 'who', 'finds', 'herself', 'at', 'a', 'crossroads', 'in', 'life', 'after', 'a', 'devastating', 'accident', 'robs', 'her', 'of', 'her', 'ability', 'to', 'play', 'the', 'piano', '.', 'In', 'the', 'depths', 'of', 'her', 'despair', ',', 'she', 'moves', 'to', 'a', 'small', 'coastal', 'town', 'called', 'Foxhaven', ',', 'seeking', 'solace', 'and', 'a', 'fresh', 'start', '.', 'Meanwhile', ',', 'Alex', 'Thompson', ',', 'an', 'ambitious', 'and', 'charismatic', 'architect', ',', 'has', 'recently', 'lost', 'his', 'wife', ',', 'leaving', 'him', 'crushed', 'and', 'detached', 'from', 'the', 'world', '.', 'Struggling', 'to', 'move', 'on', ',', 'he', 'distances', 'himself', 'from', 'everyone', ',', 'including', 'his', 'close-knit', 'family', '.', 'One', 'fateful', 'day', ',', 'Claire', 'and', 'Alex', 'cross', 'paths', 'on', 'a', 'picturesque', 'beach', '.', 'Mesmerized', 'by', 'Claire', \"'s\", 'radiant', 'smile', ',', 'Alex', 'is', 'compelled', 'to', 'strike', 'up', 'a', 'conversation', ',', 'feeling', 'an', 'instant', 'connection', '.', 'They', 'begin', 'to', 'spend', 'more', 'time', 'together', ',', 'slowly', 'unveiling', 'the', 'layers', 'of', 'their', 'past', 'and', 'finding', 'comfort', 'and', 'understanding', 'in', 'each', 'other', \"'s\", 'company', '.', 'Claire', ',', 'initially', 'hesitant', 'to', 'embrace', 'new', 'beginnings', ',', 'is', 'gradually', 'inspired', 'by', 'Alex', \"'s\", 'zest', 'for', 'life', ',', 'encouraging', 'her', 'to', 'explore', 'alternate', 'outlets', 'of', 'expression', 'for', 'her', 'love', 'for', 'music', '.', 'Recognizing', 'Claire', \"'s\", 'exceptional', 'talent', ',', 'Alex', 'invites', 'her', 'to', 'design', 'the', 'interior', 'of', 'his', 'upcoming', 'beachside', 'restaurant', ',', 'a', 'place', 'that', 'will', 'become', 'a', 'testament', 'to', 'their', 'bond', 'and', 'the', 'catalyst', 'for', 'their', 'transformation', '.', 'As', 'they', 'collaborate', 'on', 'the', 'project', ',', 'Claire', 'rediscovers', 'her', 'passion', 'for', 'music', 'through', 'composing', 'melodies', 'that', 'reflect', 'her', 'newfound', 'emotions', 'and', 'her', 'evolving', 'relationship', 'with', 'Alex', '.', 'Together', ',', 'they', 'create', 'a', 'harmony', 'that', 'not', 'only', 'resonates', 'through', 'the', 'notes', 'but', 'also', 'between', 'their', 'hearts', '.', 'However', ',', 'their', 'budding', 'romance', 'faces', 'several', 'challenges', 'as', 'their', 'past', 'traumas', 'resurface', '.', 'Claire', \"'s\", 'fear', 'of', 'failure', 'and', 'rejection', 'clouds', 'her', 'judgment', ',', 'making', 'her', 'question', 'the', 'authenticity', 'of', 'their', 'connection', '.', 'Meanwhile', ',', 'Alex', ',', 'burdened', 'by', 'guilt', 'and', 'a', 'fear', 'of', 'letting', 'go', ',', 'struggles', 'to', 'move', 'on', 'from', 'his', 'late', 'wife', \"'s\", 'memory', '.', 'Determined', 'to', 'fight', 'for', 'their', 'love', ',', 'both', 'Claire', 'and', 'Alex', 'confront', 'their', 'deepest', 'fears', 'and', 'learn', 'to', 'navigate', 'through', 'their', 'emotional', 'barriers', '.', 'Their', 'journey', 'is', 'filled', 'with', 'heartwarming', 'moments', ',', 'shared', 'laughter', ',', 'and', 'genuine', 'support', 'from', 'friends', 'and', 'family', 'who', 'recognize', 'the', 'transformative', 'power', 'of', 'love', '.', 'Finally', ',', 'after', 'overcoming', 'their', 'respective', 'hurdles', ',', 'Claire', 'and', 'Alex', 'embrace', 'the', 'truth', 'that', 'love', 'is', 'not', 'just', 'a', 'fleeting', 'moment', 'but', 'an', 'infinite', 'affection', 'that', 'withstands', 'all', 'trials', '.', 'They', 'realize', 'that', 'their', 'pain', 'and', 'loss', 'were', 'essential', 'steps', 'to', 'lead', 'them', 'to', 'each', 'other', ',', 'reminding', 'them', 'to', 'cherish', 'every', 'precious', 'moment', 'and', 'never', 'take', 'love', 'for', 'granted', '.', 'In', 'the', 'end', ',', 'the', 'beachside', 'restaurant', 'becomes', 'a', 'symbol', 'of', 'their', 'triumph', 'over', 'adversity', ',', 'a', 'place', 'where', 'love', ',', 'melodies', ',', 'and', 'dreams', 'intertwine', '.', 'Surrounded', 'by', 'their', 'loved', 'ones', ',', 'as', 'the', 'first', 'notes', 'from', 'Claire', \"'s\", 'piano', 'fill', 'the', 'air', ',', 'Claire', 'and', 'Alex', 'share', 'a', 'captivating', 'dance', 'under', 'the', 'starlit', 'sky', ',', 'celebrating', 'their', 'newfound', 'love', 'and', 'the', 'infinite', 'possibilities', 'of', 'the', 'human', 'heart', '.', 'In', '``', 'Infinite', 'Hearts', ',', \"''\", 'audiences', 'are', 'taken', 'on', 'an', 'emotional', 'rollercoaster', ',', 'witnessing', 'the', 'transformative', 'power', 'of', 'love', \"'s\", 'healing', 'touch', '.', 'This', 'beautiful', 'tale', 'reminds', 'us', 'that', 'every', 'new', 'day', 'brings', 'with', 'it', 'a', 'chance', 'to', 'rebuild', ',', 'rediscover', 'joy', ',', 'and', 'embrace', 'the', 'infinite', 'capacity', 'of', 'our', 'hearts', '.'], ['Kikuyu', 'tribal', 'members', 'work', 'on', 'Henry', 'McKenzie', \"'s\", 'farm', 'in', '1940s', 'Kenya', '.', 'Two', 'young', 'men', ',', 'Kenyan', 'native', 'Kimani', 'and', 'Henry', \"'s\", 'son', 'Peter', ',', 'have', 'grown', 'up', 'together', ',', 'almost', 'like', 'brothers', '.', 'Prejudices', 'surface', 'when', 'Peter', \"'s\", 'brother-in-law', 'Jeff', 'Newton', 'slaps', 'the', 'face', 'of', 'Kimani', 'after', 'his', 'request', 'to', 'use', 'a', 'rifle', '.', 'Kimani', 'leaves', 'the', 'farm', ',', 'but', 'is', 'carried', 'back', 'by', 'Peter', 'after', 'having', 'caught', 'his', 'foot', 'in', 'a', 'trap', '.', 'Mau', 'Mau', 'tribesmen', 'plot', 'an', 'insurrection', 'as', 'Kenya', \"'s\", 'tensions', 'rise', '.', 'Kimani', 'sides', 'with', 'them', 'and', 'is', 'asked', 'to', 'steal', 'a', 'supply', 'of', 'rifles', 'as', 'a', 'test', '.', 'He', 'parts', 'ways', 'for', 'many', 'years', 'with', 'Peter', ',', 'who', 'becomes', 'a', 'safari', 'leader', 'to', 'help', 'raise', 'money', 'for', 'the', 'farm', '.', 'His', 'fiancee', 'Holly', 'Keith', 'arrives', 'and', 'they', 'intend', 'to', 'marry', '.', 'Kimani', 'impregnates', 'the', 'daughter', 'of', 'a', 'Mau', 'Mau', 'tribal', 'elder', '.', 'A', 'raid', 'on', 'the', 'farm', 'results', 'in', 'the', 'murders', 'of', 'Newton', 'and', 'his', 'children', '.', 'British', 'forces', 'retaliate', 'by', 'bombing', 'a', 'Mau', 'Mau', 'encampment', ',', 'taking', 'tribesmen', 'prisoner', 'and', 'torturing', 'them', '.', 'Peter', 'wants', 'to', 'continue', 'his', 'life', 'in', 'Africa', ',', 'but', 'troubles', 'worsen', 'when', 'Holly', 'must', 'fight', 'off', 'Mau', 'Mau', 'warriors', '.', 'Henry', 'hastily', 'gets', 'her', 'and', 'Newton', \"'s\", 'wife', 'to', 'safety', 'in', 'Nairobi', '.', 'Peter', 'goes', 'looking', 'for', 'Kimani', ',', 'who', 'has', 'been', 'identified', 'as', 'the', 'leader', 'of', 'the', 'Mau', 'Mau', 'raiding', 'party', 'that', 'killed', 'his', 'brother-in-law', 'and', 'Newton', \"'s\", 'children', '.', 'They', 'fight', 'to', 'the', 'death', ',', 'Kimani', 'ultimately', 'falling', 'into', 'a', 'pit', 'of', 'bamboo', 'spikes', '.'], ['``', 'Love', 'is', 'Never', 'Lost', \"''\", 'is', 'a', 'heartwarming', 'romantic', 'movie', 'that', 'follows', 'the', 'intertwining', 'lives', 'of', 'two', 'individuals', 'whose', 'paths', 'cross', 'unexpectedly', ',', 'leading', 'them', 'on', 'a', 'journey', 'of', 'self-discovery', 'and', 'true', 'love', '.', 'Set', 'in', 'the', 'picturesque', 'city', 'of', 'Verona', ',', 'Italy', ',', 'the', 'story', 'revolves', 'around', 'Olivia', ',', 'a', 'talented', 'yet', 'introverted', 'artist', 'in', 'her', 'late', 'twenties', ',', 'and', 'Gabriel', ',', 'a', 'charismatic', 'and', 'compassionate', 'architect', 'in', 'his', 'early', 'thirties', '.', 'Though', 'they', 'live', 'parallel', 'lives', ',', 'both', 'struggle', 'with', 'inner', 'demons', 'and', 'the', 'fear', 'of', 'opening', 'themselves', 'up', 'to', 'love', '.', 'Olivia', 'now', 'resides', 'in', 'Verona', 'after', 'a', 'painful', 'breakup', 'that', 'left', 'her', 'emotionally', 'scarred', '.', 'She', 'dedicates', 'her', 'days', 'to', 'painting', 'and', 'running', 'her', 'quaint', 'studio', ',', 'but', 'her', 'heart', 'yearns', 'for', 'a', 'love', 'like', 'the', 'ones', 'captured', 'in', 'her', 'favorite', 'classic', 'romance', 'novels', '.', 'Meanwhile', ',', 'Gabriel', 'has', 'recently', 'relocated', 'to', 'Verona', 'to', 'rebuild', 'his', 'life', 'following', 'the', 'loss', 'of', 'his', 'beloved', 'wife', 'in', 'a', 'tragic', 'accident', '.', 'Disillusioned', 'and', 'consumed', 'by', 'grief', ',', 'he', 'immerses', 'himself', 'in', 'work', 'to', 'avoid', 'confronting', 'his', 'pain', '.', 'Destiny', 'brings', 'them', 'together', 'when', 'Gabriel', 'commissions', 'Olivia', 'to', 'create', 'a', 'mural', 'for', 'a', 'community', 'center', 'he', 'is', 'designing', '.', 'The', 'first', 'meeting', 'is', 'awkward', 'but', 'quickly', 'evolves', 'into', 'a', 'platonic', 'friendship', 'filled', 'with', 'mutual', 'respect', 'and', 'genuine', 'support', '.', 'Gabriel', 'admires', 'Olivia', \"'s\", 'artistic', 'talent', ',', 'while', 'Olivia', 'finds', 'solace', 'in', 'Gabriel', \"'s\", 'kindness', 'and', 'understanding', '.', 'As', 'they', 'spend', 'more', 'time', 'together', ',', 'Olivia', 'and', 'Gabriel', 'gradually', 'open', 'their', 'hearts', 'to', 'the', 'possibility', 'of', 'love', '.', 'Olivia', 'confides', 'in', 'Gabriel', 'about', 'her', 'fear', 'of', 'getting', 'hurt', 'again', ',', 'while', 'Gabriel', 'finds', 'himself', 'drawn', 'to', 'Olivia', ',', 'feeling', 'guilty', 'for', 'having', 'fleeting', 'thoughts', 'of', 'moving', 'on', 'from', 'his', 'late', 'wife', '.', 'Their', 'lives', 'become', 'increasingly', 'entwined', 'as', 'they', 'embark', 'on', 'various', 'adventures', 'around', 'Verona', '.', 'They', 'meander', 'through', 'vibrant', 'markets', ',', 'visit', 'ancient', 'landmarks', ',', 'and', 'indulge', 'in', 'the', 'city', \"'s\", 'rich', 'cultural', 'heritage', ',', 'allowing', 'the', 'enchanting', 'backdrop', 'to', 'unfold', 'their', 'burgeoning', 'affection', '.', 'Through', 'shared', 'laughter', 'and', 'tears', ',', 'they', 'begin', 'unraveling', 'their', 'own', 'insecurities', ',', 'gradually', 'learning', 'to', 'trust', 'and', 'love', 'again', '.', 'However', ',', 'just', 'when', 'they', 'are', 'ready', 'to', 'embrace', 'their', 'budding', 'romance', ',', 'Gabriel', 'discovers', 'a', 'hidden', 'secret', 'about', 'his', 'late', 'wife', 'that', 'rocks', 'his', 'world', '.', 'Feeling', 'utterly', 'betrayed', ',', 'he', 'pushes', 'Olivia', 'away', ',', 'mistakenly', 'assuming', 'her', 'to', 'be', 'involved', '.', 'Olivia', ',', 'heartbroken', 'and', 'confused', ',', 'confronts', 'Gabriel', ',', 'revealing', 'the', 'truth', 'and', 'assuring', 'him', 'of', 'her', 'innocence', '.', 'Realizing', 'his', 'terrible', 'mistake', ',', 'Gabriel', 'seeks', 'forgiveness', 'from', 'Olivia', ',', 'realizing', 'that', 'she', 'is', 'the', 'one', 'who', 'has', 'shed', 'light', 'on', 'his', 'darkness', 'and', 'helped', 'him', 'heal', '.', 'Coming', 'together', 'on', 'the', 'city', \"'s\", 'iconic', 'bridge', 'during', 'a', 'romantic', 'sunset', ',', 'they', 'declare', 'their', 'love', 'for', 'one', 'another', ',', 'vowing', 'to', 'cherish', 'each', 'moment', 'they', 'have', 'and', 'reminding', 'themselves', 'that', 'love', 'is', 'never', 'lost', '.', 'In', 'the', 'closing', 'scene', ',', 'Olivia', 'and', 'Gabriel', 'celebrate', 'their', 'love', ',', 'surrounded', 'by', 'friends', 'and', 'family', '.', 'Olivia', 'unveils', 'her', 'completed', 'mural', 'at', 'the', 'community', 'center', ',', 'symbolizing', 'a', 'shared', 'journey', 'to', 'healing', 'and', 'a', 'testament', 'to', 'the', 'power', 'of', 'love', \"'s\", 'redemption', '.', '``', 'Love', 'is', 'Never', 'Lost', \"''\", 'is', 'an', 'emotional', 'rollercoaster', 'that', 'showcases', 'the', 'transformative', 'power', 'of', 'love', ',', 'the', 'importance', 'of', 'second', 'chances', ',', 'and', 'the', 'ability', 'to', 'heal', 'and', 'find', 'happiness', 'even', 'in', 'the', 'midst', 'of', 'pain', 'and', 'loss', '.'], ['Frank', 'Zito', '(', 'Joe', 'Spinell', ')', 'is', 'a', 'deranged', 'man', 'that', 'due', 'to', 'his', 'suffering', 'from', 'his', 'abusive', 'mother', 'when', 'he', 'was', 'a', 'child', ',', 'he', 'becomes', 'a', 'serial', 'killer', 'that', 'murders', 'young', 'women', 'and', 'scalps', 'them', 'to', 'add', 'towards', 'his', 'mannequin', 'collection', '.', 'After', 'he', 'awakens', 'in', 'his', 'bed', 'screaming', 'and', 'crying', 'from', 'having', 'a', 'nightmare', 'about', 'killing', 'a', 'couple', 'on', 'a', 'beach', ',', 'he', 'dresses', 'himself', 'and', 'leaves', 'his', 'resided', 'one-room', 'apartment', '-', 'consisted', 'of', 'paintings', ',', 'a', 'framed', 'picture', 'of', 'his', 'mother', ',', 'and', 'a', 'collection', 'of', 'mannequins', '-', 'towards', 'downtown', 'Manhattan', '.', 'When', 'Frank', 'is', 'randomly', 'invited', 'inside', 'a', 'hotel', 'by', 'a', 'prostitute', '(', 'Rita', 'Montone', ')', ',', 'she', 'kisses', 'with', 'him', 'before', 'he', 'abruptly', 'strangles', 'the', 'woman', ',', 'then', 'scalps', 'her', 'with', 'a', 'utility', 'razor', 'while', 'on', 'a', 'range', 'of', 'disturbance', '.', 'He', 'then', 'returns', 'home', 'and', 'adds', 'the', 'hooker', 'to', 'his', 'mannequin', 'collection', 'by', 'placing', 'her', 'clothing', 'and', 'nailing', 'the', 'scalp', 'onto', 'the', 'mannequin', ';', 'he', 'tells', 'himself', 'in', 'his', 'mind', 'that', 'beauty', 'is', 'a', 'crime', 'punishable', 'by', 'death', '.', 'Sometime', 'later', ',', 'he', 'dresses', 'again', 'and', 'takes', 'a', 'collection', 'of', 'weaponry', 'with', 'him', ',', 'including', 'a', 'double-barreled', 'shotgun', ',', 'before', 'leaving', '.', 'He', 'drives', 'around', 'Brooklyn', 'and', 'the', 'Queens', 'area', ',', 'where', 'he', 'finds', 'a', 'couple', 'exiting', 'a', 'local', 'disco', 'and', 'parking', 'near', 'the', 'side', 'of', 'the', 'Verrazano', 'Bridge', '.', 'When', 'the', 'boyfriend', '(', 'Tom', 'Savini', ')', 'starts', 'up', 'the', 'vehicle', 'after', 'his', 'date', 'sees', 'Frank', 'spying', 'on', 'them', ',', 'Frank', 'kills', 'the', 'couple', 'with', 'his', 'shotgun', 'and', 'then', 'adds', 'the', 'murdered', 'woman', 'to', 'his', 'mannequin', 'collection', 'back', 'at', 'his', 'apartment', '.', 'After', 'seeing', 'his', 'recent', 'crime', 'committed', 'on', 'television', ',', 'he', 'begins', 'to', 'talk', 'to', 'himself', 'and', 'the', 'mannequins', 'and', 'sobs', 'himself', 'to', 'sleep', '.', 'During', 'the', 'next', 'day', 'in', 'Central', 'Park', ',', 'Frank', 'follows', 'a', 'photographer', 'named', 'Anna', '(', 'Caroline', 'Munro', ')', 'after', 'she', 'takes', 'a', 'photo', 'of', 'him', 'and', 'a', 'little', 'girl', 'riding', 'on', 'a', 'bicycle', 'in', 'the', 'distance', '.', 'At', 'night', ',', 'Frank', 'sees', 'a', 'nurse', '(', 'Kelly', 'Piper', ')', 'leaving', 'the', 'Roosevelt', 'Hospital', ',', 'where', 'he', 'then', 'stalks', 'her', 'inside', 'a', 'subway', 'station', 'and', 'murders', 'her', 'with', 'a', 'bayonet', 'before', 'adding', 'her', 'to', 'his', 'mannequin', 'collection', '.', 'Days', 'later', ',', 'Frank', 'heads', 'to', 'Anna', \"'s\", 'apartment', 'and', 'is', 'invited', 'inside', 'by', 'Anna', 'after', 'she', 'recognizes', 'him', 'from', 'the', 'photo', 'she', 'took', 'earlier', '.', 'While', 'on', 'a', 'dinner', 'date', ',', 'he', 'shows', 'her', 'a', 'photo', 'of', 'his', 'mother', 'who', 'died', 'in', 'a', 'car', 'crash', 'years', 'before', '.', 'A', 'few', 'days', 'later', ',', 'Frank', 'is', 'invited', 'by', 'Anna', 'to', 'a', 'studio', 'where', 'she', 'is', 'taking', 'photos', 'of', 'models', 'at', 'a', 'photography', 'session', ',', 'and', 'she', 'introduces', 'one', 'of', 'her', 'models', 'Rita', '(', 'Gail', 'Lawrence', ')', 'to', 'him', '.', 'After', 'seeing', 'the', 'two', 'talking', 'and', 'holding', 'hands', ',', 'he', 'steals', 'Rita', \"'s\", 'necklace', 'left', 'aside', 'and', 'leaves', '.', 'Later', 'that', 'same', 'night', ',', 'he', 'arrives', 'at', 'Rita', \"'s\", 'apartment', 'to', 'give', 'her', 'the', 'necklace', ',', 'and', 'then', 'later', 'sneaks', 'in', ',', 'attacks', 'her', ',', 'and', 'ties', 'her', 'up', 'to', 'her', 'bed', '.', 'Frank', 'begins', 'disorientingly', 'talking', 'by', 'addressing', 'her', 'as', 'his', 'mother', 'and', 'stabs', 'her', 'with', 'a', 'switchblade', 'before', 'scalping', 'her', 'for', 'his', 'collection', '.', 'One', 'night', ',', 'Frank', 'invites', 'Anna', 'to', 'a', 'show', ',', 'and', 'they', 'stop', 'by', 'a', 'cemetery', 'where', 'his', 'mother', \"'s\", 'grave', 'resides', '.', 'While', 'laying', 'some', 'flowers', 'beside', 'the', 'headstone', ',', 'Frank', 'begins', 'to', 'mourn', 'over', 'one', 'of', 'his', 'early', 'victims', 'and', 'attacks', 'Anna', '.', 'While', 'chasing', 'her', 'around', 'the', 'cemetery', ',', 'Anna', 'injures', 'his', 'arm', 'with', 'a', 'shovel', 'before', 'fleeing', '.', 'While', 'sobbing', 'at', 'his', 'mother', \"'s\", 'grave', ',', 'he', 'hallucinates', 'his', 'decomposing', 'mother', 'attacking', 'him', 'from', 'the', 'grave', '.', 'Frank', 'returns', 'to', 'his', 'small', 'apartment', 'and', 'while', 'he', 'cries', ',', 'he', 'then', 'sees', 'his', 'mannequins', 'suddenly', 'coming', 'alive', 'and', 'they', 'mutilate', 'Frank', 'with', 'his', 'weapons', 'before', 'ultimately', 'tearing', 'off', 'his', 'head', '.', 'The', 'next', 'morning', ',', 'two', 'police', 'officers', 'break', 'into', 'Frank', \"'s\", 'apartment', 'after', 'likely', 'being', 'informed', 'by', 'Anna', 'and', 'see', 'Frank', 'lying', 'dead', 'on', 'his', 'bed', '.', 'He', 'has', 'committed', 'suicide', 'from', 'hallucinating', 'the', 'mannequins', 'attacking', 'him', '.', 'As', 'the', 'officers', 'leave', 'the', 'apartment', ',', 'Frank', \"'s\", 'eyes', 'suddenly', 'open', 'as', 'the', 'film', 'ends', 'with', 'the', 'title', 'printed', 'onto', 'the', 'screen', '.'], ['The', 'title', 'and', 'credits', 'are', 'shown', 'over', 'a', 'picture', 'of', 'a', 'man', 'carrying', 'a', 'woman', '.', 'We', 'open', 'at', 'night', 'with', 'a', 'truck', 'pulling', 'up', 'to', 'the', 'La', 'Salle', 'Detention', 'Home', 'for', 'Girls', '.', 'A', 'dormitory', 'room', 'contains', 'over', 'a', 'dozen', 'beds', 'occupied', 'by', 'sleeping', 'women', '.', 'We', 'zoom', 'in', 'on', 'one', 'sobbing', 'woman', '.', 'Tracy', '(', 'Jean', 'Willes', ')', 'tries', 'to', 'comfort', 'her', '.', 'Big', 'Marge', 'Collins', '(', 'Tina', 'Carver', ')', 'tells', 'her', 'its', 'just', 'one', 'big', 'party', '.', 'A', 'scream', 'outside', 'the', 'dormitory', 'wakes', 'the', 'rest', 'of', 'the', 'women', '.', 'Marge', 'says', ',', '``', 'They', \"'re\", 'at', 'it', 'again', '.', \"''\", 'She', 'adds', ',', '``', 'There', 'will', 'be', 'somebody', 'dead', 'in', 'the', 'morning', '.', \"''\", 'Eric', '(', 'Friedrich', 'von', 'Ledebur', ')', 'carries', 'a', 'screaming', 'woman', 'to', 'the', 'main', 'house', '.', 'He', 'climbs', 'the', 'stairs', 'to', 'the', 'second', 'floor', '.', 'He', 'enters', 'an', 'attic', 'room', 'used', 'as', 'a', '``', 'treatment', 'facility', '.', \"''\", 'Dr.', 'Murdock', '(', 'Victor', 'Jory', ')', 'directs', 'Eric', 'to', 'place', 'the', 'girl', 'in', 'the', 'tub', 'of', 'water.The', 'next', 'day', 'Marge', 'brings', 'one', 'of', 'the', 'girls', 'to', 'the', 'Dispensary', 'with', 'her', '.', 'Mrs.', 'Ford', '(', 'Ann', 'Doran', ')', 'asks', 'what', \"'s\", 'wrong', 'with', 'her', '.', 'Anna', 'Sherman', '(', 'Barbara', 'Wilson', ')', 'tells', 'her', 'she', 'ca', \"n't\", 'keep', 'her', 'food', 'down', '.', 'Marge', 'is', 'having', 'a', 'bandage', 'on', 'her', 'leg', 'changed', 'by', 'Dr.', 'Freneau', '(', 'George', 'Lynn', ')', '.', 'Anna', 'is', 'sent', 'to', 'the', 'infirmary', 'and', 'Marge', 'is', 'sent', 'to', 'an', 'isolation', 'cottage', ',', 'more', 'for', 'insubordination', 'and', 'her', 'smart', 'mouth', ',', 'than', 'some', 'concern', 'about', 'her', 'infection.Tracy', 'has', 'a', 'job', 'working', 'for', 'Carol', 'Adams', '(', 'Charlotte', 'Austin', ')', '.', 'Carol', 'is', 'the', 'Social', 'Welfare', 'representative', 'and', 'has', 'only', 'been', 'on', 'the', 'job', 'a', 'few', 'months', '.', 'Tracy', 'handles', 'clerical', 'tasks', 'for', 'Carol', '.', 'Tracy', 'asks', 'if', 'the', 'screams', 'the', 'night', 'before', 'kept', 'her', 'awake', '.', 'Carol', 'heard', 'nothing', 'and', 'thinks', 'Tracy', 'is', 'exaggerating', '.', 'Tracy', 'tells', 'her', ',', '``', 'I', \"'ll\", 'bet', 'you', 'a', 'box', 'of', 'girl', 'scout', 'cookies', 'that', 'somebody', 'died', 'last', 'night', '.', \"''\", 'Carol', 'calls', 'Mrs.', 'Ford', 'and', 'asks', 'if', 'anyone', 'died', '.', 'She', 'is', 'told', 'Angie', 'Collins', 'had', 'a', 'heart', 'attack', 'and', 'died', '.', 'Tracy', 'casually', 'comments', 'that', 'a', 'review', 'of', 'the', 'death', 'records', 'would', 'be', 'interesting', 'reading', '.', 'Carol', 'agrees', 'to', 'look', 'at', 'them', '.', 'She', 'finds', 'the', 'records', 'in', 'Mrs.', 'Ford', \"'s\", 'office', 'and', 'asks', 'Dr.', 'Myer', '(', 'Victor', 'Varconi', ')', 'if', 'the', 'records', ',', 'or', 'death', 'certificates', ',', 'are', 'available', 'chronologically', '.', 'He', 'asks', 'her', 'if', 'she', 'has', 'permission', 'from', 'either', 'Dr.', 'Murdock', 'or', 'Mrs.', 'Ford', '.', 'Mrs.', 'Ford', 'enters', 'the', 'office', '.', 'She', 'dislikes', 'and', 'resents', 'Carol', 'Adams', 'and', 'tells', 'her', 'so', '.', 'She', 'tells', 'her', 'to', 'stay', 'in', 'her', 'own', 'department', 'and', 'mind', 'her', 'own', 'business', '.', 'A', 'movie', 'was', 'scheduled', 'for', 'the', 'inmates', ',', 'and', 'Carol', 'returns', 'to', 'the', 'dining', 'hall', 'to', 'start', 'it.Mrs', '.', 'Ford', 'reports', 'Carol', \"'s\", 'snooping', 'to', 'Dr.', 'Murdock', 'and', 'the', 'rest', 'of', 'the', '``', 'medical', 'staff', '.', \"''\", 'Murdock', 'asks', 'Mrs.', 'Ford', ',', '``', 'But', 'you', 'do', \"n't\", 'think', 'she', 'suspects', 'anything', '?', \"''\", '``', 'Not', 'yet', ',', \"''\", 'is', 'Mrs.', 'Ford', \"'s\", 'reply', '.', 'They', 'fill', 'the', 'tub', 'and', 'Eric', 'goes', 'to', 'the', 'infirmary', 'to', 'collect', 'another', 'victim', '.', 'This', 'time', 'it', 'is', 'Anna', 'Sherman', '.', 'When', 'Eric', 'gets', 'to', 'the', 'treatment', 'room', 'he', 'is', 'already', 'showing', 'signs', 'of', 'the', 'peculiar', 'condition', 'he', 'shares', 'with', 'the', 'others', '.', 'His', 'face', 'is', 'a', 'translucent', 'gray', 'and', 'white', 'like', 'marble', '.', 'Myer', 'and', 'Freneau', 'place', 'Anna', 'in', 'the', 'tub', '.', 'Dr.', 'Cooper', '(', 'Paul', 'Cavanagh', ')', 'objects', 'and', 'is', 'pushed', 'aside', 'by', 'Murdock', '.', 'Myer', 'applies', 'an', 'electrical', 'headband', 'to', 'the', 'top', 'of', 'Anna', \"'s\", 'head', '.', 'The', 'apparatus', 'transfers', 'Anna', \"'s\", 'life', 'force', 'into', 'Eric', '.', 'Eric', 'resumes', 'his', 'normal', ',', 'but', 'menacing', 'appearance', '.', 'The', 'movie', 'is', 'over', 'and', 'the', 'girls', 'return', 'to', 'their', 'dorm', 'rooms', '.', 'They', 'find', 'Anna', \"'s\", 'body', 'hanging', 'above', 'her', 'bed', 'and', 'scream', '.', 'They', 'call', 'a', 'matron', '.', 'Tracy', 'tells', 'Carol', 'that', 'Anna', 'just', 'was', \"n't\", 'the', 'suicidal', 'type.A', 'coroner', \"'s\", 'inquest', 'conducted', 'at', 'the', 'main', 'house', 'shows', 'Anna', 'died', 'of', 'a', 'severed', 'spinal', 'cord', 'consistent', 'with', 'hanging', '.', 'Death', 'is', 'deemed', 'self-inflicted', 'by', 'hanging', '.', 'During', 'questioning', ',', 'Carol', 'tells', 'the', 'coroner', 'she', 'does', \"n't\", 'believe', 'she', 'was', 'suicidal', '.', 'Dr.', 'Murdock', 'questions', 'Carol', 'about', 'conditions', 'at', 'the', 'facility', '.', 'Carol', 'agrees', 'there', 'is', 'no', 'physical', 'abuse', 'reported', '.', 'She', 'is', 'then', 'questioned', 'about', 'her', 'credentials', '.', 'Murdock', 'next', 'questions', 'Dr.', 'Jess', 'Rogers', '(', 'William', 'Hudson', ')', '.', 'He', 'is', 'a', 'psychiatrist', 'for', 'the', 'State', 'Department', 'of', 'Mental', 'Health', '.', 'He', 'agrees', 'that', 'a', 'credentialed', 'psychiatrist', 'would', 'probably', 'have', 'noticed', 'signs', 'consistent', 'with', 'suicidal', 'tendencies.The', 'next', 'day', 'Carol', 'packs', 'her', 'belongings', 'from', 'her', 'office', '.', 'She', 'assumes', 'she', 'will', 'be', 'let', 'go', 'when', 'Dr.', 'Rogers', 'arrives', 'to', 'take', 'over', 'her', 'duties', '.', 'Rogers', 'asks', 'her', 'to', 'stay', 'and', 'help', 'him', 'with', 'the', 'mental', 'evaluation', 'of', 'the', 'inmates', '.', 'She', 'asks', ',', '``', 'Were', \"n't\", 'you', 'sent', 'here', 'to', 'whitewash', 'the', 'prison', 'administration', '?', \"''\", 'Rogers', 'tells', 'her', 'he', 'was', 'sent', 'to', 'get', 'the', 'truth', '.', 'Carol', 'agrees', 'to', 'stay', 'and', 'to', 'help', '.', 'Rogers', 'goes', 'to', 'see', 'Murdock', 'in', 'his', 'office', '.', 'Murdock', 'is', 'absent', ',', 'but', 'Cooper', 'shows', 'him', 'in', 'and', 'casually', 'mentions', 'a', 'painting', 'on', 'the', 'wall', 'is', 'a', 'Rembrandt', '.', 'He', 'says', 'it', 'was', 'purchased', 'in', 'the', '1800s', ',', 'but', 'then', 'quickly', 'corrects', 'himself', '.', 'This', 'is', 'the', 'first', 'clue', 'that', 'the', 'medical', 'staff', 'is', 'older', 'than', 'they', 'appear', '.', 'Murdock', 'arrives', 'and', 'apologizes', 'to', 'Rogers', 'for', 'involving', 'him', 'at', 'the', 'inquest', '.', 'Rogers', 'tells', 'Murdock', 'that', 'Miss', 'Adams', 'is', 'to', 'remain', 'and', 'work', 'with', 'him', 'to', 'find', 'out', 'whats', 'going', 'on', '.', 'Murdock', 'registers', 'only', 'mild', 'surprise', 'at', 'the', 'announcement.Carol', ',', 'Rogers', ',', 'and', 'Tracy', 'begin', 'their', 'investigation', '.', 'They', 'question', 'one', 'inmate', 'and', 'she', 'tells', 'them', 'the', 'medical', 'staff', 'came', 'about', 'two', 'years', 'earlier', '.', '``', 'That', \"'s\", 'when', 'all', 'the', 'funny', 'business', 'started', ',', \"''\", 'she', 'adds', '.', 'She', 'recounts', 'the', 'mysterious', 'deaths', '.', 'Mrs.', 'Ford', 'reports', 'to', 'Murdock', 'that', 'the', 'Rogers', 'team', 'has', 'interviewed', 'seventeen', 'inmates', 'and', 'has', 'the', 'names', 'of', 'eleven', 'girls', 'whove', 'died', 'under', 'mysterious', 'circumstances', '.', 'Rogers', 'and', 'Carol', 'go', 'to', 'see', 'Marge', 'in', 'the', 'Isolation', 'Cottage', '.', 'Marge', 'concurs', 'that', 'Anna', 'did', 'not', 'commit', 'suicide', '.', 'She', 'was', 'screaming', 'and', 'only', 'Marge', 'would', 'have', 'heard', '.', 'Everyone', 'else', 'was', 'at', 'the', 'movies.The', 'next', 'part', 'of', 'the', 'investigation', ',', 'a', 'review', 'of', 'the', 'death', 'records', ',', 'is', 'stymied', 'by', 'a', '``', 'mysterious', 'fire', \"''\", 'involving', 'the', 'file', 'room', '.', 'Rogers', 'asks', 'Murdock', 'for', 'a', 'complete', 'history', 'of', 'all', 'the', 'employees', '.', 'He', 'also', 'wants', 'tissue', 'samples', 'of', 'Anna', 'Sherman', 'examined', 'and', 'a', 'full', 'autopsy', 'to', 'be', 'performed', '.', 'Murdock', 'disagrees', 'and', 'objects', 'strongly', '.', 'Against', 'Murdocks', 'orders', ',', 'Rogers', 'goes', 'to', 'the', 'morgue', 'to', 'perform', 'the', 'autopsy', 'himself', '.', 'The', 'medical', 'staff', 'runs', 'down', 'to', 'the', 'morgue', 'to', 'stop', 'him', '.', 'Rogers', 'takes', 'a', 'tissue', 'sample', 'and', 'examines', 'it', 'under', 'a', 'microscope', '.', 'The', 'medical', 'staff', 'confronts', 'Rogers', ',', 'so', 'he', 'lies', 'to', 'Murdock', '.', 'He', 'tells', 'them', 'she', 'was', 'alive', 'when', 'she', 'hanged', 'herself', ',', 'supporting', 'the', 'coroner', \"'s\", 'conclusion', 'it', 'was', 'suicide', '.', 'Later', 'with', 'Carol', 'he', 'tells', 'her', 'that', 'she', 'was', 'in', 'fact', 'dead', ',', 'but', 'he', 'ca', \"n't\", 'prove', 'it', 'with', 'tissue', 'samples', 'alone', '.', 'He', 'does', 'note', 'that', 'Cooper', 'was', 'not', 'with', 'the', 'others', 'during', 'his', 'autopsy', '.', 'He', 'thinks', 'there', 'is', 'animosity', 'between', 'Cooper', 'and', 'his', 'colleagues', '.', 'Carol', 'admits', 'to', 'being', 'afraid', 'and', 'concerned', 'for', 'Dr.', 'Rogers', \"'\", 'safety', '.', 'Rogers', 'goes', 'to', 'see', 'Cooper', '.', 'While', 'talking', 'he', 'hears', 'a', 'heartbeat', '.', 'He', 'tells', 'Cooper', 'it', 'is', 'his', '.', 'Cooper', 'tells', 'Rogers', 'to', 'leave', 'the', 'facility', ',', 'to', 'get', 'as', 'far', 'away', 'as', 'possible', 'and', 'to', 'take', 'Carol', 'Adams', 'with', 'him', '.', 'Cooper', 'wants', 'to', 'tell', 'Rogers', 'the', 'story', 'but', 'he', 'ca', \"n't\", '.', 'Cooper', 'tells', 'Rogers', 'he', 'has', 'written', 'it', 'out', ',', 'but', 'he', 'wo', \"n't\", 'understand', 'or', 'believe', 'it', '.', 'If', 'he', 'should', 'die', 'or', 'disappear', ',', 'Rogers', 'will', 'find', 'instructions', 'in', 'his', 'mail', '.', 'To', 'convince', 'Rogers', ',', 'Cooper', 'takes', 'a', 'pair', 'of', 'scissors', 'and', 'pounds', 'them', 'into', 'his', 'stone-like', 'hand.Cooper', 'meets', 'with', 'the', 'medical', 'staff', '.', 'They', 'inform', 'Cooper', 'they', 'wo', \"n't\", '``', 'renew', \"''\", 'him', 'because', ',', '``', 'You', \"'re\", 'continued', 'existence', 'is', 'a', 'menace', 'to', 'the', 'project', '.', \"''\", 'Cooper', 'is', 'visibly', 'turning', 'to', 'marble', '.', 'A', 'heartbeat', 'sound', 'gets', 'louder', '.', '``', '220', 'years', 'is', 'too', 'long', 'for', 'any', 'man', 'to', 'live', ',', \"''\", 'Cooper', 'observes', '.', 'He', 'admits', 'to', 'the', 'group', 'that', 'he', 'sent', 'the', 'whole', 'story', 'out', ',', 'but', 'he', 'wo', \"n't\", 'tell', 'them', 'who', 'got', 'his', 'notes', '.', 'They', 'suspect', 'either', 'Rogers', 'or', 'Carol', 'got', 'his', 'notes.Rogers', 'got', 'instructions', 'in', 'the', 'mail', '.', 'A', 'diary', 'can', 'be', 'found', 'under', 'a', 'large', 'rock', 'by', 'the', 'cliffs', 'near', 'the', 'prison', 'grounds', '.', 'Rogers', 'takes', 'a', 'crowbar', 'and', 'leaves', 'the', 'facility', '.', 'His', 'departure', 'is', 'quickly', 'reported', 'by', 'the', 'guard', 'to', 'Murdock', '.', 'Eric', 'follows', 'Rogers', ',', 'but', 'falls', 'holding', 'his', 'chest', ',', 'we', 'hear', 'his', 'pounding', 'heart', '.', 'Eric', \"'s\", 'treatments', 'sustain', 'him', 'for', 'shorter', 'periods', ',', 'something', 'that', 'worries', 'the', 'other', 'medical', 'staff', 'members', '.', 'Eric', 'spies', 'on', 'Rogers', 'retrieving', 'the', 'diary', 'from', 'a', 'box', 'under', 'a', 'rock', '.', 'Rogers', 'starts', 'to', 'read', 'the', 'diary', '.', 'Cooper', 'explains', 'he', 'was', 'born', 'in', 'England', 'in', '1733', '.', 'In', 'the', '1780s', 'a', 'group', 'met', 'in', 'Paris', 'and', 'worked', 'with', 'a', 'scientist', 'on', 'a', 'project', 'to', 'prolong', 'life', '.', 'Rogers', 'is', 'interrupted', 'by', 'Eric', 'approaching', '.', 'He', 'escapes', 'and', 'Eric', 'falls', 'over', 'a', 'cliff', '.', 'Eric', 'gets', 'up', 'to', 'an', 'audible', 'beating', 'heart', 'and', 'resumes', 'his', 'search', 'for', 'Rogers', '.', 'Rogers', 'continues', 'to', 'read', 'the', 'journal', '.', 'It', 'explains', 'the', 'process', '.', 'The', 'transfer', 'of', 'bioelectric', 'energy', 'from', 'one', 'person', 'to', 'another', ',', 'results', 'in', 'the', 'donor', \"'s\", 'death', '.', 'They', 'discovered', 'the', 'best', 'source', 'of', 'life', 'is', 'young', 'women', 'of', 'child', 'bearing', 'age', '.', 'The', 'medical', 'staff', \"'s\", 'current', 'goal', 'is', 'to', 'synthesize', 'the', 'life', 'force.Eric', 'goes', 'on', 'a', 'rampage', '.', 'He', 'assaults', 'a', 'colleague', 'then', 'breaks', 'into', 'the', 'dorms', 'and', 'roughs', 'up', 'some', 'girls', '.', 'He', 'bolts', '.', 'Rogers', 'continues', 'to', 'read', 'the', 'journal', '.', 'A', 'section', 'covers', 'side', 'effects', '.', 'The', 'stone-like', 'shell', 'appears', 'when', 'the', 'person', 'is', 'close', 'to', 'death', '.', 'Rogers', 'hides', 'the', 'journal', 'in', 'a', 'sign', 'board', 'by', 'the', 'side', 'of', 'a', 'road', '.', 'He', 'walks', 'back', 'to', 'the', 'facility', 'when', 'Carol', 'fails', 'to', 'arrive', 'at', 'their', 'arranged', 'time', '.', 'Eric', 'goes', 'to', 'the', 'Isolation', 'Cottage', 'for', 'Marge', '.', 'The', 'matron', 'tries', 'to', 'stop', 'Eric', 'and', 'she', 'is', 'killed', '.', 'Eric', 'picks', 'up', 'Marge', 'and', 'carries', 'her', 'outside', 'and', 'back', 'to', 'the', 'main', 'house', '.', 'In', 'the', 'attic', 'treatment', 'room', ',', 'Eric', 'chokes', 'Murdock', 'until', 'he', 'agrees', 'to', 'one', 'more', 'renewal', 'treatment', 'using', 'Marge', 'as', 'the', 'donor', '.', 'The', 'process', 'completed', ',', 'Marge', 'is', 'dead', ',', 'and', 'Murdock', 'gives', 'Eric', 'a', 'sedative', 'to', 'keep', 'him', 'quiet', '.', 'Rogers', 'tells', 'Carol', 'and', 'Tracy', 'the', 'story', '.', 'When', 'Carol', 'tries', 'to', 'telephone', 'the', 'State', 'Police', 'she', 'is', 'told', 'only', 'Dr.', 'Murdock', 'can', 'approve', 'the', 'call', 'and', 'he', \"'s\", 'out', 'on', 'the', 'grounds', '.', 'Rogers', 'decides', 'to', 'go', 'up', 'to', 'the', 'attic', 'room', 'and', 'stop', 'them', '.', 'He', 'enters', 'the', 'house', 'but', 'finds', 'the', 'attic', 'room', 'locked', '.', 'He', 'kicks', 'the', 'door', 'in', '.', 'He', 'finds', 'Eric', 'waiting', 'for', 'him', 'and', 'chases', 'him', 'downstairs', '.', 'Murdock', 'and', 'Mrs.', 'Ford', 'find', 'Eric', 'but', 'Rogers', 'hid', 'before', 'they', 'got', 'into', 'the', 'house', '.', 'He', 'leaves', 'the', 'house', 'and', 'returns', 'to', 'Tracy', 'and', 'Carol', '.', 'Murdock', 'arms', 'Myer', 'and', 'Freneau', 'and', 'tells', 'them', 'to', 'bring', 'back', 'Rogers', ',', 'Tracy', ',', 'and', 'Carol', '.', 'They', 'get', 'to', 'the', 'switchboard', ',', 'and', 'Rogers', 'and', 'Tracy', 'put', 'in', 'a', 'call', 'to', 'the', 'State', 'Police', '.', 'Before', 'they', 'can', 'complete', 'their', 'call', ',', 'Myer', 'puts', 'a', 'bullet', 'into', 'the', 'switchboard', '.', 'Mrs.', 'Ford', 'injects', 'Carol', 'with', 'a', 'sedative', '.', 'Rogers', 're-enters', 'the', 'house', 'and', 'goes', 'to', 'the', 'basement', '.', 'He', 'finds', 'Cooper', ',', 'dead', ',', 'and', 'like', 'stone', '.', 'He', 'also', 'finds', 'one', 'of', 'the', 'dead', 'girls', '.', 'He', 'shuts', 'off', 'the', 'water', 'supply', 'to', 'the', 'house', 'and', 'pulls', 'the', 'fuses', 'to', 'the', 'attic', 'room', '.', 'Eric', 'is', 'sent', 'to', 'get', 'a', 'sedated', 'Carol', '.', 'He', 'catches', 'Rogers', ',', 'and', 'drags', 'both', 'Carol', 'and', 'Rogers', 'to', 'the', 'attic', 'treatment', 'room', '.', 'To', 'placate', 'Eric', ',', 'Murdock', 'and', 'Mrs.', 'Ford', 'tell', 'him', 'they', 'are', 'renewing', 'him', ',', 'but', 'they', 'lie', 'to', 'him', '.', 'This', 'gives', 'Rogers', 'a', 'chance', 'to', 'crawl', 'away', '.', 'Rogers', 'pours', 'a', 'chemical', 'into', 'the', 'bath', 'to', 'neutralize', 'the', 'copper', 'sulfate', 'solution', 'in', 'the', 'tub', '.', 'Eric', 'collapses', '.', 'They', 'put', 'Rogers', 'in', 'the', 'transference', 'chair', '.', 'They', 'plan', 'to', 'make', 'Rogers', 'like', 'themselves', '.', 'Rogers', 'tells', 'them', 'he', 'neutralized', 'the', 'solution', 'with', 'sodium', 'salts', '.', 'Mrs.', 'Ford', 'empties', 'the', 'tub', ',', 'but', 'there', 'is', 'no', 'water', 'to', 'refill', 'it', '.', 'Freneau', 'goes', 'to', 'the', 'basement', 'to', 'reinstall', 'the', 'fuses', 'and', 'turn', 'the', 'water', 'main', 'back', 'on', '.', 'They', 'refill', 'the', 'tub', 'and', 'have', 'electricity', '.', 'Freneau', 'manages', 'to', 'start', 'a', 'fire', 'in', 'the', 'basement', '.', 'The', 'inmates', 'join', 'Tracy', 'in', 'a', 'rescue', 'operation', 'at', 'the', 'main', 'house', '.', 'Rogers', 'fights', 'with', 'Murdock', '.', 'Several', 'shots', 'are', 'fired', 'and', 'Rogers', 'regains', 'control', 'of', 'the', 'gun', '.', 'He', 'orders', 'Mrs.', 'Ford', 'and', 'Murdock', 'to', 'free', 'Carol', '.', 'Murdock', 'and', 'Mrs.', 'Ford', 'stay', 'in', 'the', 'burning', 'attic', 'to', 'complete', 'their', 'notes', '.', 'The', 'house', 'is', 'now', 'fully', 'engulfed', 'in', 'flames', '.', 'The', 'girls', 'return', 'to', 'their', 'dorms', '.', 'We', 'close', 'with', 'Rogers', 'and', 'Carol', 'walking', 'away', ',', 'with', 'the', 'burning', 'house', 'in', 'the', 'background', '.'], ['Professor', 'Julius', 'Kelp', 'is', 'a', 'nerdy', ',', 'scruffy', ',', 'buck-toothed', ',', 'accident-prone', ',', 'socially', 'awkward', 'university', 'professor', 'whose', 'experiments', 'in', 'the', 'classroom', 'laboratory', 'are', 'unsuccessful', 'and', 'highly', 'destructive', '.', 'When', 'a', 'football-playing', 'bully', 'embarrasses', 'and', 'attacks', 'him', ',', 'Kelp', 'decides', 'to', '``', 'beef', 'up', \"''\", 'by', 'joining', 'a', 'local', 'gym', '.', 'Kelp', \"'s\", 'lack', 'of', 'physical', 'strength', 'prompts', 'him', 'to', 'invent', 'a', 'serum', 'that', 'turns', 'him', 'into', 'the', 'handsome', ',', 'suave', ',', 'charming', 'and', 'cheeky', 'girl-chasing', 'hipster', ',', 'Buddy', 'Love', '.', 'This', 'new', 'personality', 'gives', 'him', 'the', 'self-confidence', 'to', 'pursue', 'one', 'of', 'his', 'students', ',', 'Stella', 'Purdy', '.', 'Although', 'she', 'resents', 'Love', ',', 'she', 'finds', 'herself', 'strangely', 'attracted', 'to', 'him', '.', 'Buddy', 'wows', 'the', 'crowd', 'with', 'his', 'jazzy', ',', 'breezy', 'musical', 'delivery', 'and', 'poised', 'demeanor', 'at', 'the', 'Purple', 'Pit', ',', 'a', 'nightclub', 'where', 'the', 'students', 'hang', 'out', '.', 'He', 'also', 'mocks', 'a', 'bartender', 'and', 'waitress', 'and', 'punches', 'a', 'student', '.', 'The', 'formula', 'wears', 'off', 'at', 'inopportune', 'times', ',', 'often', 'to', 'Kelp', \"'s\", 'humiliation', '.', 'Although', 'Kelp', 'knows', 'that', 'his', 'alternate', 'persona', 'is', 'a', 'bad', 'person', ',', 'he', 'can', 'not', 'prevent', 'himself', 'from', 'continually', 'taking', 'the', 'formula', 'as', 'he', 'enjoys', 'the', 'attention', 'that', 'Love', 'receives', '.', 'As', 'Buddy', 'performs', 'at', 'the', 'annual', 'student', 'dance', 'the', 'formula', 'starts', 'to', 'wear', 'off', '.', 'His', 'real', 'identity', 'now', 'revealed', ',', 'Kelp', 'gives', 'an', 'impassioned', 'speech', ',', 'admitting', 'his', 'mistakes', 'and', 'seeking', 'forgiveness', '.', 'Kelp', 'says', 'that', 'the', 'one', 'thing', 'he', 'learned', 'from', 'being', 'someone', 'else', 'is', 'that', 'if', 'you', 'do', \"n't\", 'like', 'yourself', ',', 'you', 'ca', \"n't\", 'expect', 'others', 'to', 'like', 'you', '.', 'Purdy', 'meets', 'Kelp', 'backstage', ',', 'and', 'confesses', 'that', 'she', 'prefers', 'Kelp', 'over', 'Buddy', 'Love', '.', 'Eventually', ',', 'Kelp', \"'s\", 'formerly', 'timid', 'father', 'chooses', 'to', 'market', 'the', 'formula', '(', 'a', 'copy', 'of', 'which', 'Kelp', 'had', 'sent', 'to', 'his', 'parents', \"'\", 'home', 'for', 'safekeeping', ')', ',', 'endorsed', 'by', 'the', 'deadpan', 'president', 'of', 'the', 'university', 'who', 'proclaims', ',', '``', 'It', \"'s\", 'a', 'gasser', '!', \"''\", 'Kelp', \"'s\", 'father', 'makes', 'a', 'pitch', 'to', 'the', 'chemistry', 'class', ',', 'and', 'the', 'students', 'all', 'rush', 'forward', 'to', 'buy', 'the', 'new', 'tonic', '.', 'In', 'the', 'confusion', 'Kelp', 'and', 'Purdy', 'slip', 'out', 'of', 'the', 'class', '.', 'Armed', 'with', 'a', 'marriage', 'license', 'and', 'two', 'bottles', 'of', 'the', 'formula', ',', 'they', 'elope', '.', 'During', 'the', 'short', 'closing', 'credits', ',', 'each', 'of', 'the', 'characters', 'come', 'out', 'and', 'bow', 'down', 'to', 'the', 'camera', ',', 'and', 'when', 'Jerry', 'Lewis', ',', 'still', 'portraying', 'Kelp', ',', 'comes', 'out', 'and', 'bows', ',', 'he', 'trips', 'and', 'goes', 'into', 'the', 'camera', ',', 'breaking', 'it', 'and', 'causing', 'the', 'picture', 'to', 'go', 'black', '.'], ['Twin', 'teenage', 'girls', ',', 'Sam', 'and', 'Colleen', ',', 'enter', 'the', 'mysterious', 'Dark', 'Ride', '.', 'Sam', ',', 'who', 'is', 'tough', 'and', 'competitive', ',', 'gets', 'annoyed', 'at', 'Colleen', 'because', 'she', 'is', 'anxious', 'and', 'scared', '.', 'The', 'killer', 'kidnaps', 'Sam', 'and', 'slices', 'her', 'stomach', ',', 'then', 'brutally', 'kills', 'Colleen', '.', 'Ten', 'years', 'later', ',', 'Cathy', '(', 'Jamie-Lynn', 'Sigler', ')', 'and', 'Liz', '(', 'Jennifer', 'Tisdale', ')', 'are', 'getting', 'ready', 'for', 'spring', 'break', '.', 'They', 'decide', 'to', 'take', 'a', 'road', 'trip', 'along', 'with', 'three', 'of', 'their', 'male', 'friends', ',', 'Bill', '(', 'Patrick', 'Renna', ')', ',', 'Steve', '(', 'David', 'Clayton', 'Rogers', ')', ',', 'and', 'Jim', '(', 'Alex', 'Solowitz', ')', '.', 'The', 'friends', 'embark', 'together', 'in', 'Jim', \"'s\", 'van', ',', 'and', 'meet', 'Jen', '(', 'Andrea', 'Bogart', ')', '.', 'While', 'at', 'a', 'gas', 'station', ',', 'Bill', 'wanders', 'around', 'trying', 'to', 'find', 'the', 'bathroom', '.', 'When', 'he', 'joins', 'the', 'others', ',', 'he', 'claims', 'to', 'have', 'found', 'a', 'pamphlet', 'about', 'the', 'Dark', 'Ride', 're-opening', 'after', 'many', 'years', 'of', 'being', 'closed', '.', 'The', 'group', 'decides', 'to', 'make', 'a', 'detour', 'to', 'the', 'amusement', 'park', 'and', 'spend', 'the', 'night', 'in', 'the', 'Dark', 'Ride', 'attraction', '.', 'Once', 'they', 'arrive', ',', 'Cathy', 'decides', 'to', 'stay', 'in', 'the', 'van', 'while', 'the', 'others', 'go', 'into', 'the', 'ride', '.', 'Liz', ',', 'Steve', ',', 'Jim', ',', 'and', 'Jen', 'find', 'a', 'door', 'inside', '.', 'Jim', 'switches', 'on', 'the', 'power', ',', 'which', 'illuminates', 'the', 'lights', 'and', 'launches', 'the', 'ride', ',', 'as', 'well', 'as', 'its', 'scary', 'theatrical', 'effects', '.', 'The', 'four', 'then', 'sit', 'and', 'smoke', 'marijuana', '.', 'Bill', 'tells', 'them', 'about', 'the', 'two', 'girls', 'that', 'were', 'killed', 'ten', 'years', 'earlier', ',', 'and', 'reveals', 'that', 'they', 'were', 'his', 'cousins', '.', 'After', 'some', 'initial', 'skepticism', ',', 'the', 'others', 'eventually', 'believe', 'him', '.', 'Jen', 'and', 'Steve', 'wander', 'into', 'the', 'hallway', 'to', 'fool', 'around', '.', 'Jen', 'sees', 'something', 'and', 'notices', 'Cathy', \"'s\", 'fake', 'corpse', 'sitting', 'in', 'a', 'chair', 'with', 'her', 'throat', 'slashed', '.', 'The', 'prank', 'was', 'meant', 'to', 'be', 'pulled', 'on', 'Steve', ',', 'who', 'is', 'livid', 'due', 'to', 'the', 'trauma', '.', 'Cathy', 'argues', 'with', 'him', 'and', 'they', 'both', 'stop', 'fighting', 'when', 'Bill', 'breaks', 'it', 'up', '.', 'Steve', ',', 'angry', 'about', 'the', 'prank', ',', 'wanders', 'off', 'by', 'himself', '.', 'The', 'others', 'are', 'moving', 'along', 'when', 'the', 'power', 'goes', 'out', '.', 'Jim', 'goes', 'to', 'the', 'basement', 'to', 'fix', 'it', ',', 'since', 'he', 'had', 'first', 'turned', 'it', 'on', '.', 'Jen', 'wanders', 'into', 'the', 'basement', 'and', 'starts', 'flirting', 'with', 'Jim', ',', 'kissing', 'and', 'fellating', 'him', '.', 'The', 'killer', 'slides', 'through', 'a', 'hidden', 'entrance', 'on', 'the', 'floor', 'and', 'cuts', 'through', 'Jen', \"'s\", 'neck', '.', 'Jim', ',', 'unaware', 'of', 'what', 'has', 'happened', ',', 'tries', 'to', 'kiss', 'Jen', 'and', 'pulls', 'her', 'severed', 'head', 'off', 'her', 'body', '.', 'He', 'tries', 'to', 'run', ',', 'but', 'hits', 'his', 'head', 'on', 'a', 'pipe', 'and', 'knocks', 'himself', 'out', '.', 'The', 'killer', 'then', 'takes', 'Jen', \"'s\", 'head', 'upstairs', '.', 'While', 'Jim', 'and', 'the', 'now', 'deceased', 'Jen', 'are', 'in', 'the', 'basement', ',', 'Liz', ',', 'Cathy', ',', 'and', 'Bill', 'start', 'trying', 'to', 'find', 'their', 'way', 'out', 'of', 'the', 'ride', '.', 'They', 'stumble', 'upon', 'a', 'body', 'hanging', 'from', 'the', 'ceiling', ',', 'which', 'Cathy', 'realizes', 'is', 'Steve', \"'s\", '.', 'The', 'killer', 'has', 'apparently', 'used', 'Steve', \"'s\", 'body', 'as', 'an', 'attraction', 'in', 'the', 'Dark', 'Ride', '.', 'Frightened', ',', 'the', 'girls', 'go', 'one', 'way', 'and', 'Bill', 'goes', 'another', '.', 'Cathy', 'is', 'in', 'the', 'vehicle', 'and', 'screams', ',', 'but', 'no', 'one', 'hears', 'her', '.', 'Once', 'she', 'finds', 'Liz', \"'s\", 'corpse', 'the', 'police', 'detective', 'arrives', 'and', 'insists', 'everything', 'will', 'be', 'all', 'right', '.', 'Cathy', 'sees', 'the', 'killer', 'behind', 'the', 'detective', 'and', 'tries', 'telling', 'him', 'to', 'back', 'away', '.', 'The', 'killer', 'slashes', 'the', 'officer', \"'s\", 'head', 'in', 'half', 'using', 'a', 'machete', ',', 'revealing', 'his', 'brain', '.', 'Cathy', 'screams', 'and', 'the', 'killer', 'looks', 'at', 'her', 'with', 'a', 'brief', 'smile', '.', 'Cathy', 'runs', 'up', 'the', 'stairs', ',', 'finds', 'an', 'opening', ',', 'jumps', 'out', 'to', 'safety', ',', 'and', 'gets', 'into', 'the', 'van', '.', 'Using', 'her', 'cellphone', ',', 'Cathy', 'tries', 'calling', 'her', 'friends', 'but', 'ca', \"n't\", 'get', 'service', '.', 'Meanwhile', ',', 'the', 'killer', 'attempts', 'to', 'murder', 'Jim', 'with', 'his', 'hook', 'scraping', 'through', 'the', 'concrete', '.', 'Cathy', 'drives', 'the', 'van', 'into', 'the', 'building', ',', 'impaling', 'the', 'killer', 'on', 'a', 'wall', 'of', 'spikes', '.', 'This', 'causes', 'Cathy', 'to', 'pass', 'out', ',', 'and', 'Jim', 'goes', 'to', 'check', 'on', 'her', '.', 'Bill', 'appears', 'and', 'tells', 'Jim', 'that', 'the', 'killer', 'is', 'actually', 'his', 'brother', 'and', 'that', 'he', 'has', 'been', 'committing', 'the', 'murders', 'for', 'him', ',', 'and', 'stabs', 'Jim', '.', 'Bill', 'thanks', 'Cathy', ',', 'who', 'runs', 'out', 'of', 'the', 'Dark', 'Ride', 'and', 'falls', 'to', 'her', 'knees', 'as', 'she', 'hears', 'sirens', 'approaching', '.', 'The', 'film', 'ends', 'showing', 'what', 'appears', 'to', 'be', 'Bill', 'wearing', 'the', 'killer', \"'s\", 'mask', '.'], ['In', 'Rehobeth', ',', 'Alabama', ',', '1988', ',', 'two', 'little', 'girls', 'trick', 'an', 'overweight', 'child', 'they', 'have', 'nicknamed', '“', 'Loverboy', '”', 'into', 'dropping', 'his', 'pants', 'and', 'preparing', 'for', 'a', 'kiss', ',', 'only', 'to', 'tease', 'and', 'humiliate', 'him', '.', 'When', 'one', 'of', 'the', 'girls', 'rides', 'home', 'alone', 'afterwards', ',', 'Loverboy', 'knocks', 'her', 'from', 'her', 'bicycle', 'and', 'throws', 'her', 'off', 'a', 'bridge', ',', 'making', 'the', 'girl', '’', 's', 'death', 'look', 'like', 'an', 'accident', '.', 'In', 'the', 'present', 'day', ',', 'struggling', 'to', 'pay', 'her', 'way', 'through', 'school', 'following', 'the', 'death', 'of', 'her', 'father', ',', 'college', 'coed', 'Kylie', 'Atkins', 'is', 'recruited', 'by', 'entrepreneur', 'Gary', 'Preston', 'to', 'join', 'his', 'online', 'pornography', 'venture', 'Girl', 'House', '.', 'Girl', 'House', 'allows', 'its', 'users', 'to', 'watch', 'the', 'ladies', 'living', 'inside', 'the', 'house', '24/7', 'via', '50', 'camera', 'feeds', '.', 'The', 'girls', 'perform', 'stripteases', 'and', 'regular', 'daily', 'activities', 'with', 'the', 'option', 'of', 'performing', 'sexual', 'acts', 'on', 'camera', 'for', 'additional', 'money', '.', 'Gary', 'assures', 'Kylie', 'that', 'Girl', 'House', '’', 's', 'technology', 'can', 'not', 'be', 'hacked', 'and', 'that', 'the', 'house', '’', 's', 'secret', 'location', 'is', 'untraceable', '.', 'He', 'brings', 'Kylie', 'to', 'the', 'house', 'and', 'introduces', 'her', 'to', 'Steve', ',', 'who', 'shares', 'security', 'guard', 'duties', 'with', 'Big', 'Mike', '.', 'Kylie', 'also', 'meets', 'fellow', 'Girl', 'House', 'residents', 'Kat', ',', 'Devon', ',', 'Janet', ',', 'Heather', ',', 'and', 'Mia', '.', 'Kylie', 'performs', 'her', 'first', 'striptease', 'online', 'and', 'captures', 'the', 'attention', 'of', 'Loverboy', ',', 'who', 'watches', 'from', 'his', 'basement', 'in', 'Atlanta', 'and', 'is', 'known', 'as', 'a', 'Girl', 'House', 'regular', '.', 'Also', 'watching', 'are', 'Alex', 'and', 'his', 'college', 'roommate', 'Ben', 'Stanley', ',', 'who', 'recognizes', 'Kylie', 'as', 'the', 'girl', 'he', 'has', 'had', 'a', 'crush', 'on', 'since', 'kindergarten', '.', 'Having', 'been', 'banned', 'for', 'her', 'heroin', 'addiction', ',', 'former', 'Girl', 'House', 'performer', 'Anna', 'sneaks', 'back', 'into', 'the', 'house', 'and', 'convinces', 'Gary', 'to', 'give', 'her', 'another', 'try', '.', 'Ben', 'and', 'Kylie', 'begin', 'a', 'relationship', '.', 'Kylie', 'has', 'a', 'private', 'chat', 'session', 'with', 'Loverboy', '.', 'He', 'hacks', 'into', 'the', 'computer', 'system', 'and', 'surprises', 'Kylie', 'by', 'sending', 'her', 'a', 'picture', 'of', 'his', 'face', '.', 'Anna', 'later', 'finds', 'the', 'picture', 'while', 'snooping', 'on', 'Kylie', '’', 's', 'laptop', '.', 'Later', ',', 'Ben', 'admits', 'to', 'Kylie', 'that', 'he', 'knows', 'about', 'her', 'involvement', 'with', 'Girl', 'House', '.', 'However', ',', 'they', 'talk', 'through', 'the', 'issue', 'and', 'continue', 'their', 'relationship', '.', 'Loverboy', 'angers', 'the', 'other', 'women', 'in', 'Girl', 'House', 'by', 'continually', 'asking', 'for', 'Kylie', 'when', 'she', 'is', 'not', 'there', '.', 'The', 'girls', 'begin', 'making', 'fun', 'of', 'him', 'for', 'being', 'pathetic', '.', 'Loverboy', 'notices', 'his', 'picture', 'on', 'the', 'bulletin', 'board', 'inside', 'Girl', 'House', 'with', 'a', 'handwritten', 'caption', 'that', 'reads', ',', '“', 'What', 'a', 'stud.', '”', 'Kylie', 'comes', 'home', 'and', 'takes', 'down', 'the', 'picture', 'as', 'soon', 'as', 'she', 'sees', 'it', '.', 'Eventually', ',', 'Loverboy', 'snaps', '.', 'He', 'hacks', 'into', 'Girl', 'House', '’', 's', 'system', ',', 'dons', 'a', 'mask', ',', 'and', 'breaks', 'into', 'the', 'building', 'housing', 'Girl', 'House', '’', 's', 'servers', ',', 'where', 'he', 'kills', 'the', 'website', '’', 's', 'technical', 'team', '.', 'Loverboy', 'straps', 'Gary', 'to', 'a', 'chair', 'and', 'stabs', 'him', 'several', 'times', '.', 'Slowly', 'dying', 'from', 'blood', 'loss', ',', 'Gary', 'is', 'forced', 'to', 'watch', 'through', 'the', 'monitors', 'as', 'Loverboy', 'travels', 'to', 'the', 'house', '’', 's', 'location', 'and', 'continues', 'his', 'rampage', '.', 'Loverboy', 'kills', 'Steve', 'at', 'the', 'security', 'gatehouse', '.', 'He', 'then', 'strangles', 'Anna', 'with', 'a', 'piece', 'of', 'rope', 'inside', 'the', 'house', '’', 's', 'Off-Camera', 'Room', '.', 'From', 'his', 'dorm', 'room', ',', 'Alex', 'watches', 'as', 'Loverboy', 'mutilates', 'Devon', 'during', 'a', 'private', 'dance', '.', 'Alex', 'shows', 'Ben', 'the', 'carnage', 'taking', 'place', 'live', 'at', 'Girl', 'House', '.', 'Ben', 'tries', 'texting', 'a', 'warning', 'to', 'Kylie', 'but', ',', 'just', 'as', 'she', 'returns', 'to', 'Girl', 'House', ',', 'Loverboy', 'jams', 'incoming', 'and', 'outgoing', 'communications', '.', 'Oblivious', 'to', 'what', 'is', 'going', 'on', 'inside', 'the', 'house', ',', 'Kylie', 'retires', 'to', 'her', 'room', '.', 'Ben', 'instructs', 'Alex', 'to', 'try', 'hacking', 'into', 'Girl', 'House', 'to', 'find', 'its', 'address', 'while', 'he', 'goes', 'in', 'search', 'of', 'other', 'ways', 'to', 'locate', 'Kylie', '.', 'Meanwhile', ',', 'Loverboy', 'kills', 'Heather', 'and', 'her', 'boyfriend', 'while', 'they', 'are', 'having', 'sex', '.', 'Janet', 'investigates', 'the', 'commotion', 'and', 'catches', 'Loverboy', 'in', 'the', 'act', 'of', 'severing', 'the', 'boyfriend', \"'s\", 'head', ';', 'Loverboy', 'throws', 'her', 'over', 'an', 'upstairs', 'railing', '.', 'She', 'survives', ',', 'but', 'breaks', 'her', 'legs', 'in', 'the', 'fall', '.', 'Next', ',', 'Loverboy', 'locks', 'Mia', 'in', 'the', 'sauna', 'room', '.', 'She', 'smashes', 'a', 'lump', 'of', 'coal', 'through', 'the', 'door', 'and', 'escapes', 'to', 'the', 'pool', 'outside', ',', 'but', 'there', 'Loverboy', 'kills', 'her', 'with', 'a', 'sledgehammer', '.', 'Gary', 'eventually', 'dies', 'from', 'blood', 'loss', 'while', 'watching', 'the', 'horror', 'unfold', 'onscreen', 'at', 'the', 'technical', 'facility', '.', 'Kylie', 'realizes', 'the', 'danger', 'when', 'she', 'spots', 'Loverboy', 'at', 'the', 'pool', 'from', 'her', 'window', '.', 'Loverboy', 'electronically', 'locks', 'Kylie', 'inside', 'the', 'house', '.', 'Janet', 'attacks', 'him', ',', 'but', 'is', 'unsuccessful', 'and', 'gets', 'stabbed', 'in', 'the', 'head', '.', 'Kylie', 'finds', 'Kat', 'and', 'tries', 'to', 'hide', 'in', 'her', 'bedroom', '.', 'Loverboy', 'breaks', 'in', 'and', 'corners', 'Kylie', ',', 'who', 'now', 'recognizes', 'him', '.', 'Kat', 'seemingly', 'knocks', 'Loverboy', 'unconscious', 'with', 'his', 'crowbar', 'and', 'goes', 'for', 'help', 'while', 'Kylie', 'tries', 'to', 'find', 'Devon', '.', 'Kat', 'meets', 'Big', 'Mike', 'at', 'the', 'front', 'door', ',', 'but', 'Loverboy', 'recovers', 'in', 'time', 'to', 'kill', 'them', 'both', '.', 'Kylie', 'is', 'able', 'find', 'Devon', 'and', 'tells', 'her', 'to', 'stay', 'in', 'her', 'bedroom', 'while', 'she', 'searches', 'for', 'help', '.', 'Distraught', 'over', 'her', 'disfigured', 'face', 'and', 'severed', 'fingers', ',', 'Devon', 'suffocates', 'herself', 'with', 'a', 'plastic', 'bag', '.', 'At', 'the', 'same', 'time', ',', 'Ben', 'finds', 'Kylie', '’', 's', 'friend', 'Liz', 'Owens', 'at', 'Selby', 'College', 'and', 'together', 'they', 'try', 'to', 'find', 'out', 'where', 'Kylie', 'is', '.', 'Ben', 'helps', 'the', 'police', 'find', 'an', 'address', 'for', 'Girl', 'House', ',', 'but', 'their', 'tactical', 'team', 'ends', 'up', 'storming', 'the', 'technical', 'facility', 'instead', '.', 'Alex', 'eventually', 'hacks', 'into', 'Girl', 'House', '’', 's', 'ISP', 'and', 'determines', 'the', 'house', '’', 's', 'real', 'address', '.', 'Ben', 'races', 'there', 'with', 'Liz', '.', 'Loverboy', 'chases', 'Kylie', 'throughout', 'the', 'house', '.', 'She', 'hides', 'in', 'the', 'utility', 'room', 'and', 'shuts', 'off', 'all', 'of', 'the', 'cameras', '.', 'She', 'then', 'lures', 'Loverboy', 'to', 'a', 'darkened', 'basement', 'where', 'she', 'uses', 'a', 'video', 'camera', '’', 's', 'night', 'vision', 'to', 'help', 'her', 'stab', 'him', 'in', 'the', 'stomach', 'with', 'a', 'pool', 'stick', '.', 'Injured', ',', 'Loverboy', 'overpowers', 'and', 'begins', 'to', 'strangle', 'her', ',', 'but', 'she', 'ends', 'up', 'clubbing', 'him', 'to', 'death', 'with', 'the', 'camera', '.', 'She', 'runs', 'outside', ',', 'where', 'Ben', 'and', 'Liz', 'show', 'up', 'with', 'the', 'police', 'and', 'a', 'news', 'crew', 'following', 'behind', '.', 'The', 'film', 'ends', 'with', 'Kylie', 'breathing', 'deeply', 'and', 'the', 'screen', 'cuts', 'to', 'black', '.'], ['On', 'a', 'brief', 'trip', 'back', 'to', 'London', ',', 'earnest', ',', 'bookish', 'bacteriologist', 'Walter', 'Fane', '(', 'Edward', 'Norton', ')', 'is', 'dazzled', 'by', 'Kitty', 'Garstin', '(', 'Naomi', 'Watts', ')', ',', 'a', 'vain', 'London', 'socialite', '.', 'He', 'proposes', ';', 'she', 'accepts', '(', '``', 'only', 'to', 'get', 'as', 'far', 'away', 'from', '[', 'her', ']', 'mother', 'as', 'possible', \"''\", ')', ',', 'and', 'the', 'couple', 'honeymoon', 'in', 'Venice', '.', 'They', 'travel', 'on', 'to', 'Walter', \"'s\", 'medical', 'post', 'in', 'Shanghai', ',', 'where', 'he', 'is', 'stationed', 'in', 'a', 'government', 'lab', 'studying', 'infectious', 'diseases', '.', 'They', 'find', 'themselves', 'ill-suited', ',', 'with', 'Kitty', 'much', 'more', 'interested', 'in', 'parties', 'and', 'the', 'social', 'life', 'of', 'the', 'British', 'expatriates', '.', 'Kitty', 'meets', 'Charles', 'Townsend', '(', 'Liev', 'Schreiber', ')', ',', 'a', 'married', 'British', 'vice', 'consul', ',', 'and', 'the', 'two', 'engage', 'in', 'a', 'clandestine', 'affair', '.', 'When', 'Walter', 'discovers', 'his', 'wife', \"'s\", 'infidelity', ',', 'he', 'seeks', 'to', 'punish', 'her', 'by', 'threatening', 'to', 'divorce', 'her', 'on', 'the', 'grounds', 'of', 'adultery', ',', 'if', 'she', 'does', \"n't\", 'accompany', 'him', 'to', 'a', 'small', 'village', 'in', 'a', 'remote', 'area', 'of', 'China', '.', 'He', 'has', 'volunteered', 'to', 'treat', 'victims', 'of', 'an', 'unchecked', 'cholera', 'epidemic', 'sweeping', 'through', 'the', 'area', '.', 'Kitty', 'begs', 'to', 'be', 'allowed', 'to', 'divorce', 'him', 'quietly', ',', 'but', 'he', 'refuses', ',', 'stating', '``', 'Why', 'should', 'I', 'put', 'myself', 'through', 'the', 'smallest', 'trouble', 'for', 'you', '?', \"''\", 'She', 'hopes', 'Townsend', 'will', 'leave', 'his', 'wife', 'Dorothy', 'and', 'marry', 'her', '.', 'When', 'she', 'proposes', 'this', 'possibility', 'to', 'Charles', ',', 'he', 'declines', 'to', 'accept', ',', 'despite', 'earlier', 'claiming', 'to', 'love', 'Kitty', '.', 'She', 'is', 'compelled', 'to', 'travel', 'to', 'the', 'mountainous', 'inland', 'region', 'with', 'her', 'husband', '.', 'They', 'embark', 'upon', 'an', 'arduous', ',', 'two-week-long', 'overland', 'journey', ',', 'which', 'would', 'be', 'considerably', 'faster', 'and', 'much', 'easier', 'if', 'they', 'traveled', 'by', 'river', ',', 'but', 'Walter', 'is', 'determined', 'to', 'make', 'Kitty', 'as', 'unhappy', 'and', 'uncomfortable', 'as', 'possible', '.', 'Upon', 'their', 'arrival', 'in', 'Mei-tan-fu', ',', 'she', 'is', 'distressed', 'to', 'discover', 'they', 'will', 'be', 'living', 'in', 'near-squalor', ',', 'far', 'removed', 'from', 'everyone', 'except', 'their', 'cheerful', 'neighbor', 'Waddington', ',', 'a', 'British', 'deputy', 'commissioner', 'living', 'with', 'a', 'young', 'Chinese', 'woman', 'in', 'relative', 'opulence', '.', 'Walter', 'and', 'Kitty', 'barely', 'speak', 'to', 'each', 'other', 'and', ',', 'except', 'for', 'a', 'cook', 'and', 'a', 'Chinese', 'soldier', 'assigned', 'to', 'guard', 'her', ',', 'she', 'is', 'alone', 'for', 'long', 'hours', '.', 'After', 'visiting', 'an', 'orphanage', 'run', 'by', 'a', 'group', 'of', 'French', 'nuns', ',', 'Kitty', 'volunteers', 'her', 'services', ',', 'and', 'she', 'is', 'assigned', 'to', 'work', 'in', 'the', 'music', 'room', '.', 'She', 'is', 'surprised', 'to', 'learn', 'from', 'the', 'Mother', 'Superior', 'that', 'her', 'husband', 'loves', 'children', ',', 'especially', 'babies', '.', 'In', 'this', 'setting', ',', 'she', 'begins', 'to', 'see', 'him', 'in', 'a', 'new', 'light', 'as', 'she', 'learns', 'what', 'a', 'selfless', 'and', 'caring', 'person', 'he', 'can', 'be', '.', 'When', 'he', 'sees', 'her', 'with', 'the', 'children', ',', 'he', 'in', 'turn', 'realizes', 'she', 'is', 'not', 'the', 'shallow', ',', 'selfish', 'person', 'he', 'thought', 'her', 'to', 'be', '.', 'As', 'Walter', \"'s\", 'anger', 'and', 'Kitty', \"'s\", 'unhappiness', 'subside', ',', 'their', 'marriage', 'begins', 'to', 'blossom', 'in', 'the', 'midst', 'of', 'the', 'epidemic', 'crisis', '.', 'She', 'soon', 'learns', 'she', 'is', 'pregnant', ',', 'but', 'is', 'unsure', 'who', 'the', 'father', 'is', '.', 'Walter', '–', 'in', 'love', 'with', 'Kitty', 'again', '–', 'assures', 'her', 'it', 'does', \"n't\", 'matter', '.', 'The', 'cholera', 'epidemic', 'takes', 'many', 'victims', '.', 'As', 'Walter', 'and', 'the', 'locals', 'are', 'starting', 'to', 'get', 'it', 'under', 'control', ',', 'completely', 'due', 'to', 'his', 'importation', 'of', 'clean', 'water', 'through', 'a', 'system', 'of', 'aqueducts', '(', 'as', 'the', 'local', 'people', 'did', 'not', 'understand', 'water-borne', 'infectious', 'disease', ')', 'cholera-carrying', 'refugees', 'from', 'elsewhere', 'pour', 'into', 'the', 'area', ',', 'forcing', 'Walter', 'to', 'set', 'up', 'a', 'camp', 'outside', 'town', '.', 'He', 'contracts', 'the', 'disease', 'and', 'Kitty', 'lovingly', 'nurses', 'him', ',', 'but', 'he', 'dies', ',', 'and', 'she', 'is', 'devastated', '.', 'Bereft', 'and', 'pregnant', ',', 'she', 'leaves', 'China', '.', 'Five', 'years', 'later', ',', 'Kitty', 'appears', 'well-dressed', 'and', 'happy', 'in', 'London', 'shopping', 'with', 'her', 'young', 'son', 'Walter', '.', 'They', 'meet', 'Townsend', 'by', 'chance', 'on', 'the', 'street', ',', 'and', 'he', 'suggests', 'that', 'Kitty', 'meet', 'with', 'him', '.', 'Asking', 'young', 'Walter', 'his', 'age', ',', 'he', 'realizes', 'from', 'the', 'reply', 'that', 'he', 'might', 'be', 'the', 'boy', \"'s\", 'father', '.', 'Kitty', 'rejects', 'his', 'overtures', 'and', 'walks', 'away', '.', 'When', 'her', 'son', 'asks', 'who', 'Townsend', 'is', ',', 'she', 'replies', '``', 'No', 'one', 'important', ',', 'darling', \"''\", '.'], ['The', 'film', 'follows', 'British', 'Navy', 'Lieutenant', 'Robert', 'Maynard', '(', 'Keith', 'Andes', ')', ',', 'who', 'sets', 'out', 'to', 'earn', 'a', 'reward', 'by', 'proving', 'that', 'privateer', 'Henry', 'Morgan', '(', 'Torin', 'Thatcher', ')', 'also', 'engages', 'in', 'piracy', '.', 'Maynard', 'poses', 'as', 'a', 'surgeon', 'on', 'board', 'the', 'ship', 'of', 'pirate', 'Charles', 'Bellamy', ',', 'who', 'he', 'believes', 'is', 'in', 'league', 'with', 'Morgan', '.', 'Once', 'Maynard', 'and', 'fellow', 'spy', 'Briggs', 'come', 'on', 'board', ',', 'they', 'discover', 'that', 'the', 'pirate', 'Blackbeard', 'has', 'murdered', 'Bellamy', 'and', 'taken', 'over', 'as', 'captain', '.', 'Also', 'on', 'board', 'is', 'Edwina', 'Mansfield', ',', 'a', 'pirate', \"'s\", 'daughter', ',', 'who', 'was', 'going', 'to', 'marry', 'Bellamy', '.', 'Blackbeard', 'knows', 'that', 'Morgan', 'loves', 'Mansfield', 'and', 'will', 'pursue', 'her', '.', 'Blackbeard', 'orders', 'Maynard', 'to', 'remove', 'a', 'bullet', 'from', 'his', 'neck', ',', 'and', 'demands', 'sailor', 'Gilly', 'watch', 'him', '.', 'Gilly', 'slips', 'Maynard', 'a', 'note', 'begging', 'him', 'to', 'slit', 'the', 'pirate', \"'s\", 'throat', ',', 'but', 'Maynard', 'declines', '.', 'Maynard', 'slips', 'into', 'the', 'Blackbeard', \"'s\", 'quarters', 'and', 'finds', 'Bellamy', \"'s\", 'logbook', ',', 'which', 'he', 'hopes', 'will', 'contain', 'evidence', 'that', 'Bellamy', 'gave', 'Morgan', 'stolen', 'goods', '.', 'Maynard', 'then', 'defends', 'Edwina', 'against', 'the', 'unwanted', 'advances', 'of', 'a', 'lecherous', 'pirate', ',', 'killing', 'him', 'with', 'his', 'dagger', '.', 'She', 'tells', 'Maynard', 'that', 'she', 'agreed', 'to', 'marry', 'Bellamy', 'to', 'escape', 'from', 'Morgan', ',', 'from', 'whom', 'she', 'has', 'stolen', 'treasure', ',', 'which', 'is', 'now', 'hidden', 'in', 'a', 'clothes', 'chest', '.', 'Blackbeard', 'breaks', 'open', 'one', 'of', 'Edwinas', 'chests', 'but', 'discovers', 'only', 'letters', 'in', 'which', 'Edwina', 'implicates', 'Morgan', 'as', 'Bellamy', \"'s\", 'ally', '.', 'Maynard', 'tries', 'to', 'steal', 'the', 'letter', ',', 'but', 'Blackbeard', 'stops', 'him', ',', 'noting', 'that', 'if', 'Morgan', 'were', 'arrested', ',', 'all', 'of', 'his', 'loot', 'would', 'go', 'to', 'the', 'King', '.', 'Blackbeard', 'finally', 'identifies', 'the', 'treasure', 'chest', 'and', 'claims', 'it', '.']]\n"
          ]
        }
      ]
    },
    {
      "cell_type": "code",
      "source": [
        "### Tokenization and Text Preprocessing ###\n",
        "\n",
        "processed_plots = []\n",
        "\n",
        "for plot in tr_plots:\n",
        "  # Tokenization\n",
        "  plot_tokens = word_tokenize(plot)\n",
        "\n",
        "  # nltk POS tagging\n",
        "  tagged_plot_tokens = pos_tag(plot_tokens)\n",
        "\n",
        "  # nltk tag -> wordnet tag\n",
        "  wordnet_tagged_tokens = [(t[0], wordnet_tagger(t[1])) for t in tagged_plot_tokens]\n",
        "\n",
        "  # Lemmatization\n",
        "  lemmatized_tokens = [\n",
        "      word if tag is None else w_lemmatizer.lemmatize(word, tag)\n",
        "                for word, tag in wordnet_tagged_tokens\n",
        "  ]\n",
        "\n",
        "  #Unecessary Tokens Removal\n",
        "  #Stopwords Removal\n",
        "  sw_removed_lm_tokens = [\n",
        "      word for word in lemmatized_tokens if not word in stop_words\n",
        "  ]\n",
        "\n",
        "  #Punctuations and Contraction Removal\n",
        "  PnC_removed_lm_tokens = [\n",
        "      word.translate(punc_to_empty_table)\n",
        "      for word in sw_removed_lm_tokens\n",
        "      if word!= \"\" #Removal of Contraction\n",
        "      and word != \"'m\"\n",
        "      and word != \"'re\"\n",
        "      and word != \"'ve\"\n",
        "      and word != \"n't\"\n",
        "  ]\n",
        "\n",
        "  #Numerical tokens Removal\n",
        "  rm_lm_tokens = [\n",
        "      token\n",
        "      for token in PnC_removed_lm_tokens\n",
        "      if token != \"\" and token.isnumeric() == False\n",
        "  ]\n",
        "\n",
        "\n",
        "  processed_plots += [rm_lm_tokens]"
      ],
      "metadata": {
        "id": "FHyXpMp4cNMv"
      },
      "execution_count": 27,
      "outputs": []
    },
    {
      "cell_type": "code",
      "source": [
        "# Counting words from all of plots\n",
        "w_counts = {}\n",
        "for plot in processed_plots:\n",
        "  for word in plot:\n",
        "    if word in w_counts:\n",
        "      w_counts[word] += 1\n",
        "    else:\n",
        "      w_counts[word] = 1\n",
        "\n",
        "# w_count = {'After': 7896, 'recent': 376, 'amount': 362, 'challenge': 736, 'Billy': 1550, 'Lo': 128....}"
      ],
      "metadata": {
        "id": "TtgxjqrPvHOK"
      },
      "execution_count": 28,
      "outputs": []
    },
    {
      "cell_type": "code",
      "source": [
        "# Sorting w_count by the frequency of the word\n",
        "sorted_w_counts = sorted(\n",
        "    [[key, value] for key, value in w_counts.items()], key=lambda val: val[1], reverse=True\n",
        ")\n",
        "\n",
        "# sort_w_counts = [['s', 85099], ['The', 39875], ['He', 26012], ['find', 21139], ['kill', 17487], ['leave', 16712],..]"
      ],
      "metadata": {
        "id": "JK6VTuWPwS5F"
      },
      "execution_count": 34,
      "outputs": []
    },
    {
      "cell_type": "code",
      "source": [
        "# Acquiring top 50 words its counts\n",
        "top_50_words_counts = []\n",
        "i = 0\n",
        "while len(top_50_words_counts) < 50:\n",
        "    if \"\".join(reversed(sorted_w_counts[i][0])) != sorted_w_counts[i][0]:\n",
        "        top_50_words_counts.append(\n",
        "            (sorted_w_counts[i][0], sorted_w_counts[i][1])\n",
        "        )\n",
        "    i += 1\n",
        "\n",
        "# top_50_words_counts = ('give', 9572), ('time', 9310), ('In', 9286), ('When', 9205), ('return', 9058),..."
      ],
      "metadata": {
        "id": "J2xHuwnIyij1"
      },
      "execution_count": 35,
      "outputs": []
    },
    {
      "cell_type": "code",
      "source": [
        "# Top-50 words\n",
        "top_50_words = [item[0] for item in top_50_words_counts]\n",
        "\n",
        "# top_50_words = ['The', 'He', 'find', 'kill', 'leave', 'She', 'back', .."
      ],
      "metadata": {
        "id": "dQdX32vTGXPL"
      },
      "execution_count": 38,
      "outputs": []
    },
    {
      "cell_type": "code",
      "source": [
        "# Pseudo made-up words\n",
        "reverse_top_50_words = [\"\".join(reversed(word)) for word in top_50_words]\n",
        "\n",
        "#  reverse_top_50_words = ['ehT', 'eH', 'dnif', 'llik', 'evael', 'ehS', 'kcab', 'ekam', 'yehT' .."
      ],
      "metadata": {
        "id": "u3y0OaKpGcYq"
      },
      "execution_count": 37,
      "outputs": []
    }
  ]
}